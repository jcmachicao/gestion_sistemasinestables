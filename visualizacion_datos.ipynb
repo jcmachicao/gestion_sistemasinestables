{
  "nbformat": 4,
  "nbformat_minor": 0,
  "metadata": {
    "colab": {
      "name": "visualizacion_datos.ipynb",
      "provenance": [],
      "mount_file_id": "1SzfWDoqqyUxt7qVg5IpS1Ktc7MWAYslR",
      "authorship_tag": "ABX9TyMwmSBlvyH517sit3guoDSp",
      "include_colab_link": true
    },
    "kernelspec": {
      "name": "python3",
      "display_name": "Python 3"
    },
    "language_info": {
      "name": "python"
    }
  },
  "cells": [
    {
      "cell_type": "markdown",
      "metadata": {
        "id": "view-in-github",
        "colab_type": "text"
      },
      "source": [
        "<a href=\"https://colab.research.google.com/github/jcmachicao/gestion_sistemasinestables/blob/master/visualizacion_datos.ipynb\" target=\"_parent\"><img src=\"https://colab.research.google.com/assets/colab-badge.svg\" alt=\"Open In Colab\"/></a>"
      ]
    },
    {
      "cell_type": "markdown",
      "metadata": {
        "id": "6FtzaW2Y2G8Y"
      },
      "source": [
        "# Visualización de datos"
      ]
    },
    {
      "cell_type": "code",
      "metadata": {
        "id": "lihp4Dy3m_we"
      },
      "source": [
        "!pip install plotly-express"
      ],
      "execution_count": null,
      "outputs": []
    },
    {
      "cell_type": "code",
      "metadata": {
        "id": "r0FKuxG2oAKX"
      },
      "source": [
        "import pandas as pd\n",
        "import matplotlib.pyplot as plt\n",
        "import plotly_express as px\n",
        "import os"
      ],
      "execution_count": 10,
      "outputs": []
    },
    {
      "cell_type": "code",
      "metadata": {
        "colab": {
          "base_uri": "https://localhost:8080/"
        },
        "id": "5_Cu5nuEn3jf",
        "outputId": "707c2d21-880a-48ef-bf3e-4b1667e93406"
      },
      "source": [
        "ruta = 'drive/My Drive/2020 Cursos/2021 Riesgos e Inestabilidad/'\n",
        "os.listdir(ruta)"
      ],
      "execution_count": 80,
      "outputs": [
        {
          "output_type": "execute_result",
          "data": {
            "text/plain": [
              "['Gestión de Riesgos 2021.gslides',\n",
              " 'rsk_matrix_factorization.gsheet',\n",
              " 'cpx_matrix_factorization.ipynb',\n",
              " 'gscxi.gsite',\n",
              " 'Curso Gestión de Riesgos.gsheet',\n",
              " 'datos_practica.xlsx',\n",
              " 'simulador de dinamica de sistemas.ipynb']"
            ]
          },
          "metadata": {
            "tags": []
          },
          "execution_count": 80
        }
      ]
    },
    {
      "cell_type": "code",
      "metadata": {
        "id": "aY_HjWazujuP"
      },
      "source": [
        "archivo = 'datos_practica.xlsx'"
      ],
      "execution_count": 81,
      "outputs": []
    },
    {
      "cell_type": "code",
      "metadata": {
        "id": "_T37nnI-nOD_"
      },
      "source": [
        "manzanas = pd.read_excel(ruta + archivo, sheet_name='manzanas')\n",
        "riesgos = pd.read_excel(ruta + archivo, sheet_name='riesgos')"
      ],
      "execution_count": 82,
      "outputs": []
    },
    {
      "cell_type": "code",
      "metadata": {
        "colab": {
          "base_uri": "https://localhost:8080/",
          "height": 419
        },
        "id": "x5fQT2ljoIXn",
        "outputId": "0912a8f6-e423-4edd-a0b5-7e0a03cb4d2e"
      },
      "source": [
        "riesgos"
      ],
      "execution_count": 83,
      "outputs": [
        {
          "output_type": "execute_result",
          "data": {
            "text/html": [
              "<div>\n",
              "<style scoped>\n",
              "    .dataframe tbody tr th:only-of-type {\n",
              "        vertical-align: middle;\n",
              "    }\n",
              "\n",
              "    .dataframe tbody tr th {\n",
              "        vertical-align: top;\n",
              "    }\n",
              "\n",
              "    .dataframe thead th {\n",
              "        text-align: right;\n",
              "    }\n",
              "</style>\n",
              "<table border=\"1\" class=\"dataframe\">\n",
              "  <thead>\n",
              "    <tr style=\"text-align: right;\">\n",
              "      <th></th>\n",
              "      <th>area</th>\n",
              "      <th>proyecto</th>\n",
              "      <th>costo_prev</th>\n",
              "      <th>extension</th>\n",
              "      <th>impacto</th>\n",
              "      <th>resultado</th>\n",
              "      <th>fecha</th>\n",
              "    </tr>\n",
              "  </thead>\n",
              "  <tbody>\n",
              "    <tr>\n",
              "      <th>0</th>\n",
              "      <td>9</td>\n",
              "      <td>Construcción A</td>\n",
              "      <td>82</td>\n",
              "      <td>7.7</td>\n",
              "      <td>alto</td>\n",
              "      <td>impacto real</td>\n",
              "      <td>1</td>\n",
              "    </tr>\n",
              "    <tr>\n",
              "      <th>1</th>\n",
              "      <td>4</td>\n",
              "      <td>Construcción A</td>\n",
              "      <td>83</td>\n",
              "      <td>8.0</td>\n",
              "      <td>bajo</td>\n",
              "      <td>no impacto</td>\n",
              "      <td>1</td>\n",
              "    </tr>\n",
              "    <tr>\n",
              "      <th>2</th>\n",
              "      <td>2</td>\n",
              "      <td>Construcción A</td>\n",
              "      <td>96</td>\n",
              "      <td>6.2</td>\n",
              "      <td>alto</td>\n",
              "      <td>no impacto</td>\n",
              "      <td>1</td>\n",
              "    </tr>\n",
              "    <tr>\n",
              "      <th>3</th>\n",
              "      <td>7</td>\n",
              "      <td>Construcción A</td>\n",
              "      <td>57</td>\n",
              "      <td>6.1</td>\n",
              "      <td>bajo</td>\n",
              "      <td>impacto real</td>\n",
              "      <td>1</td>\n",
              "    </tr>\n",
              "    <tr>\n",
              "      <th>4</th>\n",
              "      <td>0</td>\n",
              "      <td>Facilitación X</td>\n",
              "      <td>82</td>\n",
              "      <td>5.9</td>\n",
              "      <td>medio</td>\n",
              "      <td>impacto real</td>\n",
              "      <td>1</td>\n",
              "    </tr>\n",
              "    <tr>\n",
              "      <th>...</th>\n",
              "      <td>...</td>\n",
              "      <td>...</td>\n",
              "      <td>...</td>\n",
              "      <td>...</td>\n",
              "      <td>...</td>\n",
              "      <td>...</td>\n",
              "      <td>...</td>\n",
              "    </tr>\n",
              "    <tr>\n",
              "      <th>86</th>\n",
              "      <td>6</td>\n",
              "      <td>Construcción A</td>\n",
              "      <td>99</td>\n",
              "      <td>8.2</td>\n",
              "      <td>bajo</td>\n",
              "      <td>no impacto</td>\n",
              "      <td>8</td>\n",
              "    </tr>\n",
              "    <tr>\n",
              "      <th>87</th>\n",
              "      <td>1</td>\n",
              "      <td>Facilitación X</td>\n",
              "      <td>23</td>\n",
              "      <td>7.7</td>\n",
              "      <td>alto</td>\n",
              "      <td>no impacto</td>\n",
              "      <td>8</td>\n",
              "    </tr>\n",
              "    <tr>\n",
              "      <th>88</th>\n",
              "      <td>7</td>\n",
              "      <td>Facilitación X</td>\n",
              "      <td>52</td>\n",
              "      <td>8.0</td>\n",
              "      <td>alto</td>\n",
              "      <td>no impacto</td>\n",
              "      <td>8</td>\n",
              "    </tr>\n",
              "    <tr>\n",
              "      <th>89</th>\n",
              "      <td>9</td>\n",
              "      <td>Facilitación X</td>\n",
              "      <td>79</td>\n",
              "      <td>6.3</td>\n",
              "      <td>alto</td>\n",
              "      <td>no impacto</td>\n",
              "      <td>8</td>\n",
              "    </tr>\n",
              "    <tr>\n",
              "      <th>90</th>\n",
              "      <td>0</td>\n",
              "      <td>Construcción A</td>\n",
              "      <td>89</td>\n",
              "      <td>8.2</td>\n",
              "      <td>alto</td>\n",
              "      <td>no impacto</td>\n",
              "      <td>8</td>\n",
              "    </tr>\n",
              "  </tbody>\n",
              "</table>\n",
              "<p>91 rows × 7 columns</p>\n",
              "</div>"
            ],
            "text/plain": [
              "    area        proyecto  costo_prev  extension impacto     resultado  fecha\n",
              "0      9  Construcción A          82        7.7    alto  impacto real      1\n",
              "1      4  Construcción A          83        8.0    bajo    no impacto      1\n",
              "2      2  Construcción A          96        6.2    alto    no impacto      1\n",
              "3      7  Construcción A          57        6.1    bajo  impacto real      1\n",
              "4      0  Facilitación X          82        5.9   medio  impacto real      1\n",
              "..   ...             ...         ...        ...     ...           ...    ...\n",
              "86     6  Construcción A          99        8.2    bajo    no impacto      8\n",
              "87     1  Facilitación X          23        7.7    alto    no impacto      8\n",
              "88     7  Facilitación X          52        8.0    alto    no impacto      8\n",
              "89     9  Facilitación X          79        6.3    alto    no impacto      8\n",
              "90     0  Construcción A          89        8.2    alto    no impacto      8\n",
              "\n",
              "[91 rows x 7 columns]"
            ]
          },
          "metadata": {
            "tags": []
          },
          "execution_count": 83
        }
      ]
    },
    {
      "cell_type": "code",
      "metadata": {
        "id": "4cQdCr9nuu8v"
      },
      "source": [
        "data = riesgos"
      ],
      "execution_count": 84,
      "outputs": []
    },
    {
      "cell_type": "code",
      "metadata": {
        "colab": {
          "base_uri": "https://localhost:8080/",
          "height": 282
        },
        "id": "0_IvCkptoQG3",
        "outputId": "042ed881-895f-4201-b7ec-607add64d469"
      },
      "source": [
        "n_cols = len(data.columns)\n",
        "fig, axs = plt.subplots(1,n_cols, figsize=(25,4), facecolor='w', edgecolor='k')\n",
        "fig.subplots_adjust(hspace = 0.5, wspace=.001)\n",
        "axs = axs.ravel()\n",
        "for i in range(n_cols):\n",
        "    axs[i].hist(data[data.columns[i]], bins=20)\n",
        "    axs[i].set_title(data.columns[i])"
      ],
      "execution_count": 85,
      "outputs": [
        {
          "output_type": "display_data",
          "data": {
            "image/png": "[encoded data removed]",
            "text/plain": [
              "<Figure size 1800x288 with 7 Axes>"
            ]
          },
          "metadata": {
            "tags": []
          }
        }
      ]
    },
    {
      "cell_type": "code",
      "metadata": {
        "colab": {
          "base_uri": "https://localhost:8080/"
        },
        "id": "KY-mD33Nu8n_",
        "outputId": "f195e2ef-afe4-4fc9-ab74-299505b16d87"
      },
      "source": [
        "riesgos.columns"
      ],
      "execution_count": 86,
      "outputs": [
        {
          "output_type": "execute_result",
          "data": {
            "text/plain": [
              "Index(['area', 'proyecto', 'costo_prev', 'extension', 'impacto', 'resultado',\n",
              "       'fecha'],\n",
              "      dtype='object')"
            ]
          },
          "metadata": {
            "tags": []
          },
          "execution_count": 86
        }
      ]
    },
    {
      "cell_type": "code",
      "metadata": {
        "colab": {
          "base_uri": "https://localhost:8080/",
          "height": 917
        },
        "id": "RrNG132yo7-H",
        "outputId": "318ff848-78d0-4f3c-b200-bcda269a7a27"
      },
      "source": [
        "df = data.sort_values(by='fecha', axis=0)\n",
        "fig = px.scatter(df, x='fecha', y='costo_prev', \n",
        "                #animation_frame='fecha', animation_group='resultado',\n",
        "                text='resultado',\n",
        "                color='resultado', \n",
        "                size='costo_prev',\n",
        "                facet_col='impacto', facet_row='proyecto',\n",
        "                width=1200, height=900, \n",
        "                #log_x=True, size_max=45, range_x=[100,100000], range_y=[25,90]\n",
        "                )\n",
        "fig.show()"
      ],
      "execution_count": 106,
      "outputs": [
        {
          "output_type": "display_data",
          "data": {
            "text/html": [
              "<html>\n",
              "<head><meta charset=\"utf-8\" /></head>\n",
              "<body>\n",
              "    <div>\n",
              "            <script src=\"https://cdnjs.cloudflare.com/ajax/libs/mathjax/2.7.5/MathJax.js?config=TeX-AMS-MML_SVG\"></script><script type=\"text/javascript\">if (window.MathJax) {MathJax.Hub.Config({SVG: {font: \"STIX-Web\"}});}</script>\n",
              "                <script type=\"text/javascript\">window.PlotlyConfig = {MathJaxConfig: 'local'};</script>\n",
              "        <script src=\"https://cdn.plot.ly/plotly-latest.min.js\"></script>    \n",
              "            <div id=\"c3cce02c-16d2-4ee6-aad6-95b68a99bfca\" class=\"plotly-graph-div\" style=\"height:900px; width:1200px;\"></div>\n",
              "            <script type=\"text/javascript\">\n",
              "                \n",
              "                    window.PLOTLYENV=window.PLOTLYENV || {};\n",
              "                    \n",
              "                if (document.getElementById(\"c3cce02c-16d2-4ee6-aad6-95b68a99bfca\")) {\n",
              "                    Plotly.newPlot(\n",
              "                        'c3cce02c-16d2-4ee6-aad6-95b68a99bfca',\n",
              "                        [{\"hoverlabel\": {\"namelength\": 0}, \"hovertemplate\": \"resultado=%{text}<br>proyecto=Construcci\\u00f3n A<br>impacto=alto<br>fecha=%{x}<br>costo_prev=%{marker.size}\", \"legendgroup\": \"resultado=impacto real\", \"marker\": {\"color\": \"#636efa\", \"size\": [82, 88, 93, 34, 85], \"sizemode\": \"area\", \"sizeref\": 0.2475, \"symbol\": \"circle\"}, \"mode\": \"markers+text\", \"name\": \"resultado=impacto real\", \"showlegend\": true, \"text\": [\"impacto real\", \"impacto real\", \"impacto real\", \"impacto real\", \"impacto real\"], \"type\": \"scatter\", \"x\": [1, 1, 2, 3, 5], \"xaxis\": \"x10\", \"y\": [82, 88, 93, 34, 85], \"yaxis\": \"y10\"}, {\"hoverlabel\": {\"namelength\": 0}, \"hovertemplate\": \"resultado=%{text}<br>proyecto=Construcci\\u00f3n A<br>impacto=bajo<br>fecha=%{x}<br>costo_prev=%{marker.size}\", \"legendgroup\": \"resultado=impacto real\", \"marker\": {\"color\": \"#636efa\", \"size\": [57, 65, 40, 66, 66, 25, 79, 79, 78, 45], \"sizemode\": \"area\", \"sizeref\": 0.2475, \"symbol\": \"circle\"}, \"mode\": \"markers+text\", \"name\": \"resultado=impacto real\", \"showlegend\": false, \"text\": [\"impacto real\", \"impacto real\", \"impacto real\", \"impacto real\", \"impacto real\", \"impacto real\", \"impacto real\", \"impacto real\", \"impacto real\", \"impacto real\"], \"type\": \"scatter\", \"x\": [1, 3, 3, 3, 3, 3, 6, 6, 7, 7], \"xaxis\": \"x11\", \"y\": [57, 65, 40, 66, 66, 25, 79, 79, 78, 45], \"yaxis\": \"y11\"}, {\"hoverlabel\": {\"namelength\": 0}, \"hovertemplate\": \"resultado=%{text}<br>proyecto=Construcci\\u00f3n A<br>impacto=medio<br>fecha=%{x}<br>costo_prev=%{marker.size}\", \"legendgroup\": \"resultado=impacto real\", \"marker\": {\"color\": \"#636efa\", \"size\": [53], \"sizemode\": \"area\", \"sizeref\": 0.2475, \"symbol\": \"circle\"}, \"mode\": \"markers+text\", \"name\": \"resultado=impacto real\", \"showlegend\": false, \"text\": [\"impacto real\"], \"type\": \"scatter\", \"x\": [2], \"xaxis\": \"x12\", \"y\": [53], \"yaxis\": \"y12\"}, {\"hoverlabel\": {\"namelength\": 0}, \"hovertemplate\": \"resultado=%{text}<br>proyecto=Facilitaci\\u00f3n X<br>impacto=alto<br>fecha=%{x}<br>costo_prev=%{marker.size}\", \"legendgroup\": \"resultado=impacto real\", \"marker\": {\"color\": \"#636efa\", \"size\": [13, 68, 68, 49, 93], \"sizemode\": \"area\", \"sizeref\": 0.2475, \"symbol\": \"circle\"}, \"mode\": \"markers+text\", \"name\": \"resultado=impacto real\", \"showlegend\": false, \"text\": [\"impacto real\", \"impacto real\", \"impacto real\", \"impacto real\", \"impacto real\"], \"type\": \"scatter\", \"x\": [1, 5, 6, 7, 7], \"xaxis\": \"x7\", \"y\": [13, 68, 68, 49, 93], \"yaxis\": \"y7\"}, {\"hoverlabel\": {\"namelength\": 0}, \"hovertemplate\": \"resultado=%{text}<br>proyecto=Facilitaci\\u00f3n X<br>impacto=medio<br>fecha=%{x}<br>costo_prev=%{marker.size}\", \"legendgroup\": \"resultado=impacto real\", \"marker\": {\"color\": \"#636efa\", \"size\": [82, 13, 29], \"sizemode\": \"area\", \"sizeref\": 0.2475, \"symbol\": \"circle\"}, \"mode\": \"markers+text\", \"name\": \"resultado=impacto real\", \"showlegend\": false, \"text\": [\"impacto real\", \"impacto real\", \"impacto real\"], \"type\": \"scatter\", \"x\": [1, 5, 7], \"xaxis\": \"x9\", \"y\": [82, 13, 29], \"yaxis\": \"y9\"}, {\"hoverlabel\": {\"namelength\": 0}, \"hovertemplate\": \"resultado=%{text}<br>proyecto=Reparaci\\u00f3n B<br>impacto=alto<br>fecha=%{x}<br>costo_prev=%{marker.size}\", \"legendgroup\": \"resultado=impacto real\", \"marker\": {\"color\": \"#636efa\", \"size\": [69, 53, 34, 75, 33], \"sizemode\": \"area\", \"sizeref\": 0.2475, \"symbol\": \"circle\"}, \"mode\": \"markers+text\", \"name\": \"resultado=impacto real\", \"showlegend\": false, \"text\": [\"impacto real\", \"impacto real\", \"impacto real\", \"impacto real\", \"impacto real\"], \"type\": \"scatter\", \"x\": [2, 2, 2, 3, 5], \"xaxis\": \"x4\", \"y\": [69, 53, 34, 75, 33], \"yaxis\": \"y4\"}, {\"hoverlabel\": {\"namelength\": 0}, \"hovertemplate\": \"resultado=%{text}<br>proyecto=Reparaci\\u00f3n B<br>impacto=bajo<br>fecha=%{x}<br>costo_prev=%{marker.size}\", \"legendgroup\": \"resultado=impacto real\", \"marker\": {\"color\": \"#636efa\", \"size\": [80], \"sizemode\": \"area\", \"sizeref\": 0.2475, \"symbol\": \"circle\"}, \"mode\": \"markers+text\", \"name\": \"resultado=impacto real\", \"showlegend\": false, \"text\": [\"impacto real\"], \"type\": \"scatter\", \"x\": [2], \"xaxis\": \"x5\", \"y\": [80], \"yaxis\": \"y5\"}, {\"hoverlabel\": {\"namelength\": 0}, \"hovertemplate\": \"resultado=%{text}<br>proyecto=Reparaci\\u00f3n B<br>impacto=medio<br>fecha=%{x}<br>costo_prev=%{marker.size}\", \"legendgroup\": \"resultado=impacto real\", \"marker\": {\"color\": \"#636efa\", \"size\": [59], \"sizemode\": \"area\", \"sizeref\": 0.2475, \"symbol\": \"circle\"}, \"mode\": \"markers+text\", \"name\": \"resultado=impacto real\", \"showlegend\": false, \"text\": [\"impacto real\"], \"type\": \"scatter\", \"x\": [3], \"xaxis\": \"x6\", \"y\": [59], \"yaxis\": \"y6\"}, {\"hoverlabel\": {\"namelength\": 0}, \"hovertemplate\": \"resultado=%{text}<br>proyecto=Construcci\\u00f3n A<br>impacto=alto<br>fecha=%{x}<br>costo_prev=%{marker.size}\", \"legendgroup\": \"resultado=no impacto\", \"marker\": {\"color\": \"#EF553B\", \"size\": [96, 75, 65, 70, 0, 17, 72, 76, 63, 30, 50, 12, 35, 76, 56, 89], \"sizemode\": \"area\", \"sizeref\": 0.2475, \"symbol\": \"circle\"}, \"mode\": \"markers+text\", \"name\": \"resultado=no impacto\", \"showlegend\": true, \"text\": [\"no impacto\", \"no impacto\", \"no impacto\", \"no impacto\", \"no impacto\", \"no impacto\", \"no impacto\", \"no impacto\", \"no impacto\", \"no impacto\", \"no impacto\", \"no impacto\", \"no impacto\", \"no impacto\", \"no impacto\", \"no impacto\"], \"type\": \"scatter\", \"x\": [1, 2, 3, 3, 3, 4, 4, 4, 4, 5, 5, 6, 7, 7, 8, 8], \"xaxis\": \"x10\", \"y\": [96, 75, 65, 70, 0, 17, 72, 76, 63, 30, 50, 12, 35, 76, 56, 89], \"yaxis\": \"y10\"}, {\"hoverlabel\": {\"namelength\": 0}, \"hovertemplate\": \"resultado=%{text}<br>proyecto=Construcci\\u00f3n A<br>impacto=bajo<br>fecha=%{x}<br>costo_prev=%{marker.size}\", \"legendgroup\": \"resultado=no impacto\", \"marker\": {\"color\": \"#EF553B\", \"size\": [83, 95, 52, 91, 32, 4, 49, 23, 99, 90], \"sizemode\": \"area\", \"sizeref\": 0.2475, \"symbol\": \"circle\"}, \"mode\": \"markers+text\", \"name\": \"resultado=no impacto\", \"showlegend\": false, \"text\": [\"no impacto\", \"no impacto\", \"no impacto\", \"no impacto\", \"no impacto\", \"no impacto\", \"no impacto\", \"no impacto\", \"no impacto\", \"no impacto\"], \"type\": \"scatter\", \"x\": [1, 3, 4, 4, 5, 6, 7, 7, 8, 8], \"xaxis\": \"x11\", \"y\": [83, 95, 52, 91, 32, 4, 49, 23, 99, 90], \"yaxis\": \"y11\"}, {\"hoverlabel\": {\"namelength\": 0}, \"hovertemplate\": \"resultado=%{text}<br>proyecto=Construcci\\u00f3n A<br>impacto=medio<br>fecha=%{x}<br>costo_prev=%{marker.size}\", \"legendgroup\": \"resultado=no impacto\", \"marker\": {\"color\": \"#EF553B\", \"size\": [31, 24, 11, 71, 3, 26, 94, 11, 53, 49], \"sizemode\": \"area\", \"sizeref\": 0.2475, \"symbol\": \"circle\"}, \"mode\": \"markers+text\", \"name\": \"resultado=no impacto\", \"showlegend\": false, \"text\": [\"no impacto\", \"no impacto\", \"no impacto\", \"no impacto\", \"no impacto\", \"no impacto\", \"no impacto\", \"no impacto\", \"no impacto\", \"no impacto\"], \"type\": \"scatter\", \"x\": [3, 3, 4, 4, 4, 5, 6, 6, 7, 8], \"xaxis\": \"x12\", \"y\": [31, 24, 11, 71, 3, 26, 94, 11, 53, 49], \"yaxis\": \"y12\"}, {\"hoverlabel\": {\"namelength\": 0}, \"hovertemplate\": \"resultado=%{text}<br>proyecto=Facilitaci\\u00f3n X<br>impacto=alto<br>fecha=%{x}<br>costo_prev=%{marker.size}\", \"legendgroup\": \"resultado=no impacto\", \"marker\": {\"color\": \"#EF553B\", \"size\": [81, 9, 78, 44, 52, 23, 79], \"sizemode\": \"area\", \"sizeref\": 0.2475, \"symbol\": \"circle\"}, \"mode\": \"markers+text\", \"name\": \"resultado=no impacto\", \"showlegend\": false, \"text\": [\"no impacto\", \"no impacto\", \"no impacto\", \"no impacto\", \"no impacto\", \"no impacto\", \"no impacto\"], \"type\": \"scatter\", \"x\": [2, 4, 6, 7, 8, 8, 8], \"xaxis\": \"x7\", \"y\": [81, 9, 78, 44, 52, 23, 79], \"yaxis\": \"y7\"}, {\"hoverlabel\": {\"namelength\": 0}, \"hovertemplate\": \"resultado=%{text}<br>proyecto=Facilitaci\\u00f3n X<br>impacto=bajo<br>fecha=%{x}<br>costo_prev=%{marker.size}\", \"legendgroup\": \"resultado=no impacto\", \"marker\": {\"color\": \"#EF553B\", \"size\": [38, 94, 67, 2, 86], \"sizemode\": \"area\", \"sizeref\": 0.2475, \"symbol\": \"circle\"}, \"mode\": \"markers+text\", \"name\": \"resultado=no impacto\", \"showlegend\": false, \"text\": [\"no impacto\", \"no impacto\", \"no impacto\", \"no impacto\", \"no impacto\"], \"type\": \"scatter\", \"x\": [2, 4, 4, 5, 6], \"xaxis\": \"x8\", \"y\": [38, 94, 67, 2, 86], \"yaxis\": \"y8\"}, {\"hoverlabel\": {\"namelength\": 0}, \"hovertemplate\": \"resultado=%{text}<br>proyecto=Facilitaci\\u00f3n X<br>impacto=medio<br>fecha=%{x}<br>costo_prev=%{marker.size}\", \"legendgroup\": \"resultado=no impacto\", \"marker\": {\"color\": \"#EF553B\", \"size\": [24, 27, 47], \"sizemode\": \"area\", \"sizeref\": 0.2475, \"symbol\": \"circle\"}, \"mode\": \"markers+text\", \"name\": \"resultado=no impacto\", \"showlegend\": false, \"text\": [\"no impacto\", \"no impacto\", \"no impacto\"], \"type\": \"scatter\", \"x\": [4, 4, 6], \"xaxis\": \"x9\", \"y\": [24, 27, 47], \"yaxis\": \"y9\"}, {\"hoverlabel\": {\"namelength\": 0}, \"hovertemplate\": \"resultado=%{text}<br>proyecto=Reparaci\\u00f3n B<br>impacto=alto<br>fecha=%{x}<br>costo_prev=%{marker.size}\", \"legendgroup\": \"resultado=no impacto\", \"marker\": {\"color\": \"#EF553B\", \"size\": [22, 42, 57, 31, 18], \"sizemode\": \"area\", \"sizeref\": 0.2475, \"symbol\": \"circle\"}, \"mode\": \"markers+text\", \"name\": \"resultado=no impacto\", \"showlegend\": false, \"text\": [\"no impacto\", \"no impacto\", \"no impacto\", \"no impacto\", \"no impacto\"], \"type\": \"scatter\", \"x\": [3, 4, 4, 8, 8], \"xaxis\": \"x4\", \"y\": [22, 42, 57, 31, 18], \"yaxis\": \"y4\"}, {\"hoverlabel\": {\"namelength\": 0}, \"hovertemplate\": \"resultado=%{text}<br>proyecto=Reparaci\\u00f3n B<br>impacto=bajo<br>fecha=%{x}<br>costo_prev=%{marker.size}\", \"legendgroup\": \"resultado=no impacto\", \"marker\": {\"color\": \"#EF553B\", \"size\": [92], \"sizemode\": \"area\", \"sizeref\": 0.2475, \"symbol\": \"circle\"}, \"mode\": \"markers+text\", \"name\": \"resultado=no impacto\", \"showlegend\": false, \"text\": [\"no impacto\"], \"type\": \"scatter\", \"x\": [3], \"xaxis\": \"x5\", \"y\": [92], \"yaxis\": \"y5\"}, {\"hoverlabel\": {\"namelength\": 0}, \"hovertemplate\": \"resultado=%{text}<br>proyecto=Reparaci\\u00f3n B<br>impacto=medio<br>fecha=%{x}<br>costo_prev=%{marker.size}\", \"legendgroup\": \"resultado=no impacto\", \"marker\": {\"color\": \"#EF553B\", \"size\": [68, 48], \"sizemode\": \"area\", \"sizeref\": 0.2475, \"symbol\": \"circle\"}, \"mode\": \"markers+text\", \"name\": \"resultado=no impacto\", \"showlegend\": false, \"text\": [\"no impacto\", \"no impacto\"], \"type\": \"scatter\", \"x\": [1, 8], \"xaxis\": \"x6\", \"y\": [68, 48], \"yaxis\": \"y6\"}, {\"hoverlabel\": {\"namelength\": 0}, \"hovertemplate\": \"resultado=%{text}<br>proyecto=Construcci\\u00f3n B<br>impacto=medio<br>fecha=%{x}<br>costo_prev=%{marker.size}\", \"legendgroup\": \"resultado=no impacto\", \"marker\": {\"color\": \"#EF553B\", \"size\": [93], \"sizemode\": \"area\", \"sizeref\": 0.2475, \"symbol\": \"circle\"}, \"mode\": \"markers+text\", \"name\": \"resultado=no impacto\", \"showlegend\": false, \"text\": [\"no impacto\"], \"type\": \"scatter\", \"x\": [7], \"xaxis\": \"x3\", \"y\": [93], \"yaxis\": \"y3\"}],\n",
              "                        {\"annotations\": [{\"font\": {}, \"showarrow\": false, \"text\": \"impacto=alto\", \"x\": 0.15666666666666665, \"xanchor\": \"center\", \"xref\": \"paper\", \"y\": 1.0, \"yanchor\": \"bottom\", \"yref\": \"paper\"}, {\"font\": {}, \"showarrow\": false, \"text\": \"impacto=bajo\", \"x\": 0.49, \"xanchor\": \"center\", \"xref\": \"paper\", \"y\": 1.0, \"yanchor\": \"bottom\", \"yref\": \"paper\"}, {\"font\": {}, \"showarrow\": false, \"text\": \"impacto=medio\", \"x\": 0.8233333333333333, \"xanchor\": \"center\", \"xref\": \"paper\", \"y\": 1.0, \"yanchor\": \"bottom\", \"yref\": \"paper\"}, {\"font\": {}, \"showarrow\": false, \"text\": \"proyecto=Construcci\\u00f3n B\", \"textangle\": 90, \"x\": 0.98, \"xanchor\": \"left\", \"xref\": \"paper\", \"y\": 0.11375, \"yanchor\": \"middle\", \"yref\": \"paper\"}, {\"font\": {}, \"showarrow\": false, \"text\": \"proyecto=Reparaci\\u00f3n B\", \"textangle\": 90, \"x\": 0.98, \"xanchor\": \"left\", \"xref\": \"paper\", \"y\": 0.37124999999999997, \"yanchor\": \"middle\", \"yref\": \"paper\"}, {\"font\": {}, \"showarrow\": false, \"text\": \"proyecto=Facilitaci\\u00f3n X\", \"textangle\": 90, \"x\": 0.98, \"xanchor\": \"left\", \"xref\": \"paper\", \"y\": 0.62875, \"yanchor\": \"middle\", \"yref\": \"paper\"}, {\"font\": {}, \"showarrow\": false, \"text\": \"proyecto=Construcci\\u00f3n A\", \"textangle\": 90, \"x\": 0.98, \"xanchor\": \"left\", \"xref\": \"paper\", \"y\": 0.88625, \"yanchor\": \"middle\", \"yref\": \"paper\"}], \"height\": 900, \"legend\": {\"itemsizing\": \"constant\", \"tracegroupgap\": 0}, \"margin\": {\"t\": 60}, \"template\": {\"data\": {\"bar\": [{\"error_x\": {\"color\": \"#2a3f5f\"}, \"error_y\": {\"color\": \"#2a3f5f\"}, \"marker\": {\"line\": {\"color\": \"#E5ECF6\", \"width\": 0.5}}, \"type\": \"bar\"}], \"barpolar\": [{\"marker\": {\"line\": {\"color\": \"#E5ECF6\", \"width\": 0.5}}, \"type\": \"barpolar\"}], \"carpet\": [{\"aaxis\": {\"endlinecolor\": \"#2a3f5f\", \"gridcolor\": \"white\", \"linecolor\": \"white\", \"minorgridcolor\": \"white\", \"startlinecolor\": \"#2a3f5f\"}, \"baxis\": {\"endlinecolor\": \"#2a3f5f\", \"gridcolor\": \"white\", \"linecolor\": \"white\", \"minorgridcolor\": \"white\", \"startlinecolor\": \"#2a3f5f\"}, \"type\": \"carpet\"}], \"choropleth\": [{\"colorbar\": {\"outlinewidth\": 0, \"ticks\": \"\"}, \"type\": \"choropleth\"}], \"contour\": [{\"colorbar\": {\"outlinewidth\": 0, \"ticks\": \"\"}, \"colorscale\": [[0.0, \"#0d0887\"], [0.1111111111111111, \"#46039f\"], [0.2222222222222222, \"#7201a8\"], [0.3333333333333333, \"#9c179e\"], [0.4444444444444444, \"#bd3786\"], [0.5555555555555556, \"#d8576b\"], [0.6666666666666666, \"#ed7953\"], [0.7777777777777778, \"#fb9f3a\"], [0.8888888888888888, \"#fdca26\"], [1.0, \"#f0f921\"]], \"type\": \"contour\"}], \"contourcarpet\": [{\"colorbar\": {\"outlinewidth\": 0, \"ticks\": \"\"}, \"type\": \"contourcarpet\"}], \"heatmap\": [{\"colorbar\": {\"outlinewidth\": 0, \"ticks\": \"\"}, \"colorscale\": [[0.0, \"#0d0887\"], [0.1111111111111111, \"#46039f\"], [0.2222222222222222, \"#7201a8\"], [0.3333333333333333, \"#9c179e\"], [0.4444444444444444, \"#bd3786\"], [0.5555555555555556, \"#d8576b\"], [0.6666666666666666, \"#ed7953\"], [0.7777777777777778, \"#fb9f3a\"], [0.8888888888888888, \"#fdca26\"], [1.0, \"#f0f921\"]], \"type\": \"heatmap\"}], \"heatmapgl\": [{\"colorbar\": {\"outlinewidth\": 0, \"ticks\": \"\"}, \"colorscale\": [[0.0, \"#0d0887\"], [0.1111111111111111, \"#46039f\"], [0.2222222222222222, \"#7201a8\"], [0.3333333333333333, \"#9c179e\"], [0.4444444444444444, \"#bd3786\"], [0.5555555555555556, \"#d8576b\"], [0.6666666666666666, \"#ed7953\"], [0.7777777777777778, \"#fb9f3a\"], [0.8888888888888888, \"#fdca26\"], [1.0, \"#f0f921\"]], \"type\": \"heatmapgl\"}], \"histogram\": [{\"marker\": {\"colorbar\": {\"outlinewidth\": 0, \"ticks\": \"\"}}, \"type\": \"histogram\"}], \"histogram2d\": [{\"colorbar\": {\"outlinewidth\": 0, \"ticks\": \"\"}, \"colorscale\": [[0.0, \"#0d0887\"], [0.1111111111111111, \"#46039f\"], [0.2222222222222222, \"#7201a8\"], [0.3333333333333333, \"#9c179e\"], [0.4444444444444444, \"#bd3786\"], [0.5555555555555556, \"#d8576b\"], [0.6666666666666666, \"#ed7953\"], [0.7777777777777778, \"#fb9f3a\"], [0.8888888888888888, \"#fdca26\"], [1.0, \"#f0f921\"]], \"type\": \"histogram2d\"}], \"histogram2dcontour\": [{\"colorbar\": {\"outlinewidth\": 0, \"ticks\": \"\"}, \"colorscale\": [[0.0, \"#0d0887\"], [0.1111111111111111, \"#46039f\"], [0.2222222222222222, \"#7201a8\"], [0.3333333333333333, \"#9c179e\"], [0.4444444444444444, \"#bd3786\"], [0.5555555555555556, \"#d8576b\"], [0.6666666666666666, \"#ed7953\"], [0.7777777777777778, \"#fb9f3a\"], [0.8888888888888888, \"#fdca26\"], [1.0, \"#f0f921\"]], \"type\": \"histogram2dcontour\"}], \"mesh3d\": [{\"colorbar\": {\"outlinewidth\": 0, \"ticks\": \"\"}, \"type\": \"mesh3d\"}], \"parcoords\": [{\"line\": {\"colorbar\": {\"outlinewidth\": 0, \"ticks\": \"\"}}, \"type\": \"parcoords\"}], \"pie\": [{\"automargin\": true, \"type\": \"pie\"}], \"scatter\": [{\"marker\": {\"colorbar\": {\"outlinewidth\": 0, \"ticks\": \"\"}}, \"type\": \"scatter\"}], \"scatter3d\": [{\"line\": {\"colorbar\": {\"outlinewidth\": 0, \"ticks\": \"\"}}, \"marker\": {\"colorbar\": {\"outlinewidth\": 0, \"ticks\": \"\"}}, \"type\": \"scatter3d\"}], \"scattercarpet\": [{\"marker\": {\"colorbar\": {\"outlinewidth\": 0, \"ticks\": \"\"}}, \"type\": \"scattercarpet\"}], \"scattergeo\": [{\"marker\": {\"colorbar\": {\"outlinewidth\": 0, \"ticks\": \"\"}}, \"type\": \"scattergeo\"}], \"scattergl\": [{\"marker\": {\"colorbar\": {\"outlinewidth\": 0, \"ticks\": \"\"}}, \"type\": \"scattergl\"}], \"scattermapbox\": [{\"marker\": {\"colorbar\": {\"outlinewidth\": 0, \"ticks\": \"\"}}, \"type\": \"scattermapbox\"}], \"scatterpolar\": [{\"marker\": {\"colorbar\": {\"outlinewidth\": 0, \"ticks\": \"\"}}, \"type\": \"scatterpolar\"}], \"scatterpolargl\": [{\"marker\": {\"colorbar\": {\"outlinewidth\": 0, \"ticks\": \"\"}}, \"type\": \"scatterpolargl\"}], \"scatterternary\": [{\"marker\": {\"colorbar\": {\"outlinewidth\": 0, \"ticks\": \"\"}}, \"type\": \"scatterternary\"}], \"surface\": [{\"colorbar\": {\"outlinewidth\": 0, \"ticks\": \"\"}, \"colorscale\": [[0.0, \"#0d0887\"], [0.1111111111111111, \"#46039f\"], [0.2222222222222222, \"#7201a8\"], [0.3333333333333333, \"#9c179e\"], [0.4444444444444444, \"#bd3786\"], [0.5555555555555556, \"#d8576b\"], [0.6666666666666666, \"#ed7953\"], [0.7777777777777778, \"#fb9f3a\"], [0.8888888888888888, \"#fdca26\"], [1.0, \"#f0f921\"]], \"type\": \"surface\"}], \"table\": [{\"cells\": {\"fill\": {\"color\": \"#EBF0F8\"}, \"line\": {\"color\": \"white\"}}, \"header\": {\"fill\": {\"color\": \"#C8D4E3\"}, \"line\": {\"color\": \"white\"}}, \"type\": \"table\"}]}, \"layout\": {\"annotationdefaults\": {\"arrowcolor\": \"#2a3f5f\", \"arrowhead\": 0, \"arrowwidth\": 1}, \"coloraxis\": {\"colorbar\": {\"outlinewidth\": 0, \"ticks\": \"\"}}, \"colorscale\": {\"diverging\": [[0, \"#8e0152\"], [0.1, \"#c51b7d\"], [0.2, \"#de77ae\"], [0.3, \"#f1b6da\"], [0.4, \"#fde0ef\"], [0.5, \"#f7f7f7\"], [0.6, \"#e6f5d0\"], [0.7, \"#b8e186\"], [0.8, \"#7fbc41\"], [0.9, \"#4d9221\"], [1, \"#276419\"]], \"sequential\": [[0.0, \"#0d0887\"], [0.1111111111111111, \"#46039f\"], [0.2222222222222222, \"#7201a8\"], [0.3333333333333333, \"#9c179e\"], [0.4444444444444444, \"#bd3786\"], [0.5555555555555556, \"#d8576b\"], [0.6666666666666666, \"#ed7953\"], [0.7777777777777778, \"#fb9f3a\"], [0.8888888888888888, \"#fdca26\"], [1.0, \"#f0f921\"]], \"sequentialminus\": [[0.0, \"#0d0887\"], [0.1111111111111111, \"#46039f\"], [0.2222222222222222, \"#7201a8\"], [0.3333333333333333, \"#9c179e\"], [0.4444444444444444, \"#bd3786\"], [0.5555555555555556, \"#d8576b\"], [0.6666666666666666, \"#ed7953\"], [0.7777777777777778, \"#fb9f3a\"], [0.8888888888888888, \"#fdca26\"], [1.0, \"#f0f921\"]]}, \"colorway\": [\"#636efa\", \"#EF553B\", \"#00cc96\", \"#ab63fa\", \"#FFA15A\", \"#19d3f3\", \"#FF6692\", \"#B6E880\", \"#FF97FF\", \"#FECB52\"], \"font\": {\"color\": \"#2a3f5f\"}, \"geo\": {\"bgcolor\": \"white\", \"lakecolor\": \"white\", \"landcolor\": \"#E5ECF6\", \"showlakes\": true, \"showland\": true, \"subunitcolor\": \"white\"}, \"hoverlabel\": {\"align\": \"left\"}, \"hovermode\": \"closest\", \"mapbox\": {\"style\": \"light\"}, \"paper_bgcolor\": \"white\", \"plot_bgcolor\": \"#E5ECF6\", \"polar\": {\"angularaxis\": {\"gridcolor\": \"white\", \"linecolor\": \"white\", \"ticks\": \"\"}, \"bgcolor\": \"#E5ECF6\", \"radialaxis\": {\"gridcolor\": \"white\", \"linecolor\": \"white\", \"ticks\": \"\"}}, \"scene\": {\"xaxis\": {\"backgroundcolor\": \"#E5ECF6\", \"gridcolor\": \"white\", \"gridwidth\": 2, \"linecolor\": \"white\", \"showbackground\": true, \"ticks\": \"\", \"zerolinecolor\": \"white\"}, \"yaxis\": {\"backgroundcolor\": \"#E5ECF6\", \"gridcolor\": \"white\", \"gridwidth\": 2, \"linecolor\": \"white\", \"showbackground\": true, \"ticks\": \"\", \"zerolinecolor\": \"white\"}, \"zaxis\": {\"backgroundcolor\": \"#E5ECF6\", \"gridcolor\": \"white\", \"gridwidth\": 2, \"linecolor\": \"white\", \"showbackground\": true, \"ticks\": \"\", \"zerolinecolor\": \"white\"}}, \"shapedefaults\": {\"line\": {\"color\": \"#2a3f5f\"}}, \"ternary\": {\"aaxis\": {\"gridcolor\": \"white\", \"linecolor\": \"white\", \"ticks\": \"\"}, \"baxis\": {\"gridcolor\": \"white\", \"linecolor\": \"white\", \"ticks\": \"\"}, \"bgcolor\": \"#E5ECF6\", \"caxis\": {\"gridcolor\": \"white\", \"linecolor\": \"white\", \"ticks\": \"\"}}, \"title\": {\"x\": 0.05}, \"xaxis\": {\"automargin\": true, \"gridcolor\": \"white\", \"linecolor\": \"white\", \"ticks\": \"\", \"title\": {\"standoff\": 15}, \"zerolinecolor\": \"white\", \"zerolinewidth\": 2}, \"yaxis\": {\"automargin\": true, \"gridcolor\": \"white\", \"linecolor\": \"white\", \"ticks\": \"\", \"title\": {\"standoff\": 15}, \"zerolinecolor\": \"white\", \"zerolinewidth\": 2}}}, \"width\": 1200, \"xaxis\": {\"anchor\": \"y\", \"domain\": [0.0, 0.3133333333333333], \"title\": {\"text\": \"fecha\"}}, \"xaxis10\": {\"anchor\": \"y10\", \"domain\": [0.0, 0.3133333333333333], \"matches\": \"x\", \"showticklabels\": false}, \"xaxis11\": {\"anchor\": \"y11\", \"domain\": [0.3333333333333333, 0.6466666666666666], \"matches\": \"x\", \"showticklabels\": false}, \"xaxis12\": {\"anchor\": \"y12\", \"domain\": [0.6666666666666666, 0.98], \"matches\": \"x\", \"showticklabels\": false}, \"xaxis2\": {\"anchor\": \"y2\", \"domain\": [0.3333333333333333, 0.6466666666666666], \"matches\": \"x\", \"title\": {\"text\": \"fecha\"}}, \"xaxis3\": {\"anchor\": \"y3\", \"domain\": [0.6666666666666666, 0.98], \"matches\": \"x\", \"title\": {\"text\": \"fecha\"}}, \"xaxis4\": {\"anchor\": \"y4\", \"domain\": [0.0, 0.3133333333333333], \"matches\": \"x\", \"showticklabels\": false}, \"xaxis5\": {\"anchor\": \"y5\", \"domain\": [0.3333333333333333, 0.6466666666666666], \"matches\": \"x\", \"showticklabels\": false}, \"xaxis6\": {\"anchor\": \"y6\", \"domain\": [0.6666666666666666, 0.98], \"matches\": \"x\", \"showticklabels\": false}, \"xaxis7\": {\"anchor\": \"y7\", \"domain\": [0.0, 0.3133333333333333], \"matches\": \"x\", \"showticklabels\": false}, \"xaxis8\": {\"anchor\": \"y8\", \"domain\": [0.3333333333333333, 0.6466666666666666], \"matches\": \"x\", \"showticklabels\": false}, \"xaxis9\": {\"anchor\": \"y9\", \"domain\": [0.6666666666666666, 0.98], \"matches\": \"x\", \"showticklabels\": false}, \"yaxis\": {\"anchor\": \"x\", \"domain\": [0.0, 0.2275], \"title\": {\"text\": \"costo_prev\"}}, \"yaxis10\": {\"anchor\": \"x10\", \"domain\": [0.7725, 1.0], \"matches\": \"y\", \"title\": {\"text\": \"costo_prev\"}}, \"yaxis11\": {\"anchor\": \"x11\", \"domain\": [0.7725, 1.0], \"matches\": \"y\", \"showticklabels\": false}, \"yaxis12\": {\"anchor\": \"x12\", \"domain\": [0.7725, 1.0], \"matches\": \"y\", \"showticklabels\": false}, \"yaxis2\": {\"anchor\": \"x2\", \"domain\": [0.0, 0.2275], \"matches\": \"y\", \"showticklabels\": false}, \"yaxis3\": {\"anchor\": \"x3\", \"domain\": [0.0, 0.2275], \"matches\": \"y\", \"showticklabels\": false}, \"yaxis4\": {\"anchor\": \"x4\", \"domain\": [0.2575, 0.485], \"matches\": \"y\", \"title\": {\"text\": \"costo_prev\"}}, \"yaxis5\": {\"anchor\": \"x5\", \"domain\": [0.2575, 0.485], \"matches\": \"y\", \"showticklabels\": false}, \"yaxis6\": {\"anchor\": \"x6\", \"domain\": [0.2575, 0.485], \"matches\": \"y\", \"showticklabels\": false}, \"yaxis7\": {\"anchor\": \"x7\", \"domain\": [0.515, 0.7425], \"matches\": \"y\", \"title\": {\"text\": \"costo_prev\"}}, \"yaxis8\": {\"anchor\": \"x8\", \"domain\": [0.515, 0.7425], \"matches\": \"y\", \"showticklabels\": false}, \"yaxis9\": {\"anchor\": \"x9\", \"domain\": [0.515, 0.7425], \"matches\": \"y\", \"showticklabels\": false}},\n",
              "                        {\"responsive\": true}\n",
              "                    ).then(function(){\n",
              "                            \n",
              "var gd = document.getElementById('c3cce02c-16d2-4ee6-aad6-95b68a99bfca');\n",
              "var x = new MutationObserver(function (mutations, observer) {{\n",
              "        var display = window.getComputedStyle(gd).display;\n",
              "        if (!display || display === 'none') {{\n",
              "            console.log([gd, 'removed!']);\n",
              "            Plotly.purge(gd);\n",
              "            observer.disconnect();\n",
              "        }}\n",
              "}});\n",
              "\n",
              "// Listen for the removal of the full notebook cells\n",
              "var notebookContainer = gd.closest('#notebook-container');\n",
              "if (notebookContainer) {{\n",
              "    x.observe(notebookContainer, {childList: true});\n",
              "}}\n",
              "\n",
              "// Listen for the clearing of the current output cell\n",
              "var outputEl = gd.closest('.output');\n",
              "if (outputEl) {{\n",
              "    x.observe(outputEl, {childList: true});\n",
              "}}\n",
              "\n",
              "                        })\n",
              "                };\n",
              "                \n",
              "            </script>\n",
              "        </div>\n",
              "</body>\n",
              "</html>"
            ]
          },
          "metadata": {
            "tags": []
          }
        }
      ]
    },
    {
      "cell_type": "code",
      "metadata": {
        "colab": {
          "base_uri": "https://localhost:8080/",
          "height": 917
        },
        "id": "4ecv2s424lPH",
        "outputId": "a31f328a-9df0-4019-bccc-8092fda59632"
      },
      "source": [
        "df = data.sort_values(by='fecha', axis=0)\n",
        "fig = px.histogram(df, x='fecha', y='costo_prev', \n",
        "                color='resultado', \n",
        "                facet_col='impacto', facet_row='proyecto',\n",
        "                width=1200, height=900, \n",
        "                #log_x=True, size_max=45, range_x=[100,100000], range_y=[25,90]\n",
        "                )\n",
        "fig.show()"
      ],
      "execution_count": 109,
      "outputs": [
        {
          "output_type": "display_data",
          "data": {
            "text/html": [
              "<html>\n",
              "<head><meta charset=\"utf-8\" /></head>\n",
              "<body>\n",
              "    <div>\n",
              "            <script src=\"https://cdnjs.cloudflare.com/ajax/libs/mathjax/2.7.5/MathJax.js?config=TeX-AMS-MML_SVG\"></script><script type=\"text/javascript\">if (window.MathJax) {MathJax.Hub.Config({SVG: {font: \"STIX-Web\"}});}</script>\n",
              "                <script type=\"text/javascript\">window.PlotlyConfig = {MathJaxConfig: 'local'};</script>\n",
              "        <script src=\"https://cdn.plot.ly/plotly-latest.min.js\"></script>    \n",
              "            <div id=\"329fe601-54d1-480f-b028-d680f526b496\" class=\"plotly-graph-div\" style=\"height:900px; width:1200px;\"></div>\n",
              "            <script type=\"text/javascript\">\n",
              "                \n",
              "                    window.PLOTLYENV=window.PLOTLYENV || {};\n",
              "                    \n",
              "                if (document.getElementById(\"329fe601-54d1-480f-b028-d680f526b496\")) {\n",
              "                    Plotly.newPlot(\n",
              "                        '329fe601-54d1-480f-b028-d680f526b496',\n",
              "                        [{\"alignmentgroup\": \"True\", \"bingroup\": \"x\", \"hoverlabel\": {\"namelength\": 0}, \"hovertemplate\": \"resultado=impacto real<br>proyecto=Construcci\\u00f3n A<br>impacto=alto<br>fecha=%{x}<br>count of costo_prev=%{y}\", \"legendgroup\": \"resultado=impacto real\", \"marker\": {\"color\": \"#636efa\"}, \"name\": \"resultado=impacto real\", \"offsetgroup\": \"resultado=impacto real\", \"orientation\": \"v\", \"showlegend\": true, \"type\": \"histogram\", \"x\": [1, 1, 2, 3, 5], \"xaxis\": \"x10\", \"y\": [82, 88, 93, 34, 85], \"yaxis\": \"y10\"}, {\"alignmentgroup\": \"True\", \"bingroup\": \"x\", \"hoverlabel\": {\"namelength\": 0}, \"hovertemplate\": \"resultado=impacto real<br>proyecto=Construcci\\u00f3n A<br>impacto=bajo<br>fecha=%{x}<br>count of costo_prev=%{y}\", \"legendgroup\": \"resultado=impacto real\", \"marker\": {\"color\": \"#636efa\"}, \"name\": \"resultado=impacto real\", \"offsetgroup\": \"resultado=impacto real\", \"orientation\": \"v\", \"showlegend\": false, \"type\": \"histogram\", \"x\": [1, 3, 3, 3, 3, 3, 6, 6, 7, 7], \"xaxis\": \"x11\", \"y\": [57, 65, 40, 66, 66, 25, 79, 79, 78, 45], \"yaxis\": \"y11\"}, {\"alignmentgroup\": \"True\", \"bingroup\": \"x\", \"hoverlabel\": {\"namelength\": 0}, \"hovertemplate\": \"resultado=impacto real<br>proyecto=Construcci\\u00f3n A<br>impacto=medio<br>fecha=%{x}<br>count of costo_prev=%{y}\", \"legendgroup\": \"resultado=impacto real\", \"marker\": {\"color\": \"#636efa\"}, \"name\": \"resultado=impacto real\", \"offsetgroup\": \"resultado=impacto real\", \"orientation\": \"v\", \"showlegend\": false, \"type\": \"histogram\", \"x\": [2], \"xaxis\": \"x12\", \"y\": [53], \"yaxis\": \"y12\"}, {\"alignmentgroup\": \"True\", \"bingroup\": \"x\", \"hoverlabel\": {\"namelength\": 0}, \"hovertemplate\": \"resultado=impacto real<br>proyecto=Facilitaci\\u00f3n X<br>impacto=alto<br>fecha=%{x}<br>count of costo_prev=%{y}\", \"legendgroup\": \"resultado=impacto real\", \"marker\": {\"color\": \"#636efa\"}, \"name\": \"resultado=impacto real\", \"offsetgroup\": \"resultado=impacto real\", \"orientation\": \"v\", \"showlegend\": false, \"type\": \"histogram\", \"x\": [1, 5, 6, 7, 7], \"xaxis\": \"x7\", \"y\": [13, 68, 68, 49, 93], \"yaxis\": \"y7\"}, {\"alignmentgroup\": \"True\", \"bingroup\": \"x\", \"hoverlabel\": {\"namelength\": 0}, \"hovertemplate\": \"resultado=impacto real<br>proyecto=Facilitaci\\u00f3n X<br>impacto=medio<br>fecha=%{x}<br>count of costo_prev=%{y}\", \"legendgroup\": \"resultado=impacto real\", \"marker\": {\"color\": \"#636efa\"}, \"name\": \"resultado=impacto real\", \"offsetgroup\": \"resultado=impacto real\", \"orientation\": \"v\", \"showlegend\": false, \"type\": \"histogram\", \"x\": [1, 5, 7], \"xaxis\": \"x9\", \"y\": [82, 13, 29], \"yaxis\": \"y9\"}, {\"alignmentgroup\": \"True\", \"bingroup\": \"x\", \"hoverlabel\": {\"namelength\": 0}, \"hovertemplate\": \"resultado=impacto real<br>proyecto=Reparaci\\u00f3n B<br>impacto=alto<br>fecha=%{x}<br>count of costo_prev=%{y}\", \"legendgroup\": \"resultado=impacto real\", \"marker\": {\"color\": \"#636efa\"}, \"name\": \"resultado=impacto real\", \"offsetgroup\": \"resultado=impacto real\", \"orientation\": \"v\", \"showlegend\": false, \"type\": \"histogram\", \"x\": [2, 2, 2, 3, 5], \"xaxis\": \"x4\", \"y\": [69, 53, 34, 75, 33], \"yaxis\": \"y4\"}, {\"alignmentgroup\": \"True\", \"bingroup\": \"x\", \"hoverlabel\": {\"namelength\": 0}, \"hovertemplate\": \"resultado=impacto real<br>proyecto=Reparaci\\u00f3n B<br>impacto=bajo<br>fecha=%{x}<br>count of costo_prev=%{y}\", \"legendgroup\": \"resultado=impacto real\", \"marker\": {\"color\": \"#636efa\"}, \"name\": \"resultado=impacto real\", \"offsetgroup\": \"resultado=impacto real\", \"orientation\": \"v\", \"showlegend\": false, \"type\": \"histogram\", \"x\": [2], \"xaxis\": \"x5\", \"y\": [80], \"yaxis\": \"y5\"}, {\"alignmentgroup\": \"True\", \"bingroup\": \"x\", \"hoverlabel\": {\"namelength\": 0}, \"hovertemplate\": \"resultado=impacto real<br>proyecto=Reparaci\\u00f3n B<br>impacto=medio<br>fecha=%{x}<br>count of costo_prev=%{y}\", \"legendgroup\": \"resultado=impacto real\", \"marker\": {\"color\": \"#636efa\"}, \"name\": \"resultado=impacto real\", \"offsetgroup\": \"resultado=impacto real\", \"orientation\": \"v\", \"showlegend\": false, \"type\": \"histogram\", \"x\": [3], \"xaxis\": \"x6\", \"y\": [59], \"yaxis\": \"y6\"}, {\"alignmentgroup\": \"True\", \"bingroup\": \"x\", \"hoverlabel\": {\"namelength\": 0}, \"hovertemplate\": \"resultado=no impacto<br>proyecto=Construcci\\u00f3n A<br>impacto=alto<br>fecha=%{x}<br>count of costo_prev=%{y}\", \"legendgroup\": \"resultado=no impacto\", \"marker\": {\"color\": \"#EF553B\"}, \"name\": \"resultado=no impacto\", \"offsetgroup\": \"resultado=no impacto\", \"orientation\": \"v\", \"showlegend\": true, \"type\": \"histogram\", \"x\": [1, 2, 3, 3, 3, 4, 4, 4, 4, 5, 5, 6, 7, 7, 8, 8], \"xaxis\": \"x10\", \"y\": [96, 75, 65, 70, 0, 17, 72, 76, 63, 30, 50, 12, 35, 76, 56, 89], \"yaxis\": \"y10\"}, {\"alignmentgroup\": \"True\", \"bingroup\": \"x\", \"hoverlabel\": {\"namelength\": 0}, \"hovertemplate\": \"resultado=no impacto<br>proyecto=Construcci\\u00f3n A<br>impacto=bajo<br>fecha=%{x}<br>count of costo_prev=%{y}\", \"legendgroup\": \"resultado=no impacto\", \"marker\": {\"color\": \"#EF553B\"}, \"name\": \"resultado=no impacto\", \"offsetgroup\": \"resultado=no impacto\", \"orientation\": \"v\", \"showlegend\": false, \"type\": \"histogram\", \"x\": [1, 3, 4, 4, 5, 6, 7, 7, 8, 8], \"xaxis\": \"x11\", \"y\": [83, 95, 52, 91, 32, 4, 49, 23, 99, 90], \"yaxis\": \"y11\"}, {\"alignmentgroup\": \"True\", \"bingroup\": \"x\", \"hoverlabel\": {\"namelength\": 0}, \"hovertemplate\": \"resultado=no impacto<br>proyecto=Construcci\\u00f3n A<br>impacto=medio<br>fecha=%{x}<br>count of costo_prev=%{y}\", \"legendgroup\": \"resultado=no impacto\", \"marker\": {\"color\": \"#EF553B\"}, \"name\": \"resultado=no impacto\", \"offsetgroup\": \"resultado=no impacto\", \"orientation\": \"v\", \"showlegend\": false, \"type\": \"histogram\", \"x\": [3, 3, 4, 4, 4, 5, 6, 6, 7, 8], \"xaxis\": \"x12\", \"y\": [31, 24, 11, 71, 3, 26, 94, 11, 53, 49], \"yaxis\": \"y12\"}, {\"alignmentgroup\": \"True\", \"bingroup\": \"x\", \"hoverlabel\": {\"namelength\": 0}, \"hovertemplate\": \"resultado=no impacto<br>proyecto=Facilitaci\\u00f3n X<br>impacto=alto<br>fecha=%{x}<br>count of costo_prev=%{y}\", \"legendgroup\": \"resultado=no impacto\", \"marker\": {\"color\": \"#EF553B\"}, \"name\": \"resultado=no impacto\", \"offsetgroup\": \"resultado=no impacto\", \"orientation\": \"v\", \"showlegend\": false, \"type\": \"histogram\", \"x\": [2, 4, 6, 7, 8, 8, 8], \"xaxis\": \"x7\", \"y\": [81, 9, 78, 44, 52, 23, 79], \"yaxis\": \"y7\"}, {\"alignmentgroup\": \"True\", \"bingroup\": \"x\", \"hoverlabel\": {\"namelength\": 0}, \"hovertemplate\": \"resultado=no impacto<br>proyecto=Facilitaci\\u00f3n X<br>impacto=bajo<br>fecha=%{x}<br>count of costo_prev=%{y}\", \"legendgroup\": \"resultado=no impacto\", \"marker\": {\"color\": \"#EF553B\"}, \"name\": \"resultado=no impacto\", \"offsetgroup\": \"resultado=no impacto\", \"orientation\": \"v\", \"showlegend\": false, \"type\": \"histogram\", \"x\": [2, 4, 4, 5, 6], \"xaxis\": \"x8\", \"y\": [38, 94, 67, 2, 86], \"yaxis\": \"y8\"}, {\"alignmentgroup\": \"True\", \"bingroup\": \"x\", \"hoverlabel\": {\"namelength\": 0}, \"hovertemplate\": \"resultado=no impacto<br>proyecto=Facilitaci\\u00f3n X<br>impacto=medio<br>fecha=%{x}<br>count of costo_prev=%{y}\", \"legendgroup\": \"resultado=no impacto\", \"marker\": {\"color\": \"#EF553B\"}, \"name\": \"resultado=no impacto\", \"offsetgroup\": \"resultado=no impacto\", \"orientation\": \"v\", \"showlegend\": false, \"type\": \"histogram\", \"x\": [4, 4, 6], \"xaxis\": \"x9\", \"y\": [24, 27, 47], \"yaxis\": \"y9\"}, {\"alignmentgroup\": \"True\", \"bingroup\": \"x\", \"hoverlabel\": {\"namelength\": 0}, \"hovertemplate\": \"resultado=no impacto<br>proyecto=Reparaci\\u00f3n B<br>impacto=alto<br>fecha=%{x}<br>count of costo_prev=%{y}\", \"legendgroup\": \"resultado=no impacto\", \"marker\": {\"color\": \"#EF553B\"}, \"name\": \"resultado=no impacto\", \"offsetgroup\": \"resultado=no impacto\", \"orientation\": \"v\", \"showlegend\": false, \"type\": \"histogram\", \"x\": [3, 4, 4, 8, 8], \"xaxis\": \"x4\", \"y\": [22, 42, 57, 31, 18], \"yaxis\": \"y4\"}, {\"alignmentgroup\": \"True\", \"bingroup\": \"x\", \"hoverlabel\": {\"namelength\": 0}, \"hovertemplate\": \"resultado=no impacto<br>proyecto=Reparaci\\u00f3n B<br>impacto=bajo<br>fecha=%{x}<br>count of costo_prev=%{y}\", \"legendgroup\": \"resultado=no impacto\", \"marker\": {\"color\": \"#EF553B\"}, \"name\": \"resultado=no impacto\", \"offsetgroup\": \"resultado=no impacto\", \"orientation\": \"v\", \"showlegend\": false, \"type\": \"histogram\", \"x\": [3], \"xaxis\": \"x5\", \"y\": [92], \"yaxis\": \"y5\"}, {\"alignmentgroup\": \"True\", \"bingroup\": \"x\", \"hoverlabel\": {\"namelength\": 0}, \"hovertemplate\": \"resultado=no impacto<br>proyecto=Reparaci\\u00f3n B<br>impacto=medio<br>fecha=%{x}<br>count of costo_prev=%{y}\", \"legendgroup\": \"resultado=no impacto\", \"marker\": {\"color\": \"#EF553B\"}, \"name\": \"resultado=no impacto\", \"offsetgroup\": \"resultado=no impacto\", \"orientation\": \"v\", \"showlegend\": false, \"type\": \"histogram\", \"x\": [1, 8], \"xaxis\": \"x6\", \"y\": [68, 48], \"yaxis\": \"y6\"}, {\"alignmentgroup\": \"True\", \"bingroup\": \"x\", \"hoverlabel\": {\"namelength\": 0}, \"hovertemplate\": \"resultado=no impacto<br>proyecto=Construcci\\u00f3n B<br>impacto=medio<br>fecha=%{x}<br>count of costo_prev=%{y}\", \"legendgroup\": \"resultado=no impacto\", \"marker\": {\"color\": \"#EF553B\"}, \"name\": \"resultado=no impacto\", \"offsetgroup\": \"resultado=no impacto\", \"orientation\": \"v\", \"showlegend\": false, \"type\": \"histogram\", \"x\": [7], \"xaxis\": \"x3\", \"y\": [93], \"yaxis\": \"y3\"}],\n",
              "                        {\"annotations\": [{\"font\": {}, \"showarrow\": false, \"text\": \"impacto=alto\", \"x\": 0.15666666666666665, \"xanchor\": \"center\", \"xref\": \"paper\", \"y\": 1.0, \"yanchor\": \"bottom\", \"yref\": \"paper\"}, {\"font\": {}, \"showarrow\": false, \"text\": \"impacto=bajo\", \"x\": 0.49, \"xanchor\": \"center\", \"xref\": \"paper\", \"y\": 1.0, \"yanchor\": \"bottom\", \"yref\": \"paper\"}, {\"font\": {}, \"showarrow\": false, \"text\": \"impacto=medio\", \"x\": 0.8233333333333333, \"xanchor\": \"center\", \"xref\": \"paper\", \"y\": 1.0, \"yanchor\": \"bottom\", \"yref\": \"paper\"}, {\"font\": {}, \"showarrow\": false, \"text\": \"proyecto=Construcci\\u00f3n B\", \"textangle\": 90, \"x\": 0.98, \"xanchor\": \"left\", \"xref\": \"paper\", \"y\": 0.11375, \"yanchor\": \"middle\", \"yref\": \"paper\"}, {\"font\": {}, \"showarrow\": false, \"text\": \"proyecto=Reparaci\\u00f3n B\", \"textangle\": 90, \"x\": 0.98, \"xanchor\": \"left\", \"xref\": \"paper\", \"y\": 0.37124999999999997, \"yanchor\": \"middle\", \"yref\": \"paper\"}, {\"font\": {}, \"showarrow\": false, \"text\": \"proyecto=Facilitaci\\u00f3n X\", \"textangle\": 90, \"x\": 0.98, \"xanchor\": \"left\", \"xref\": \"paper\", \"y\": 0.62875, \"yanchor\": \"middle\", \"yref\": \"paper\"}, {\"font\": {}, \"showarrow\": false, \"text\": \"proyecto=Construcci\\u00f3n A\", \"textangle\": 90, \"x\": 0.98, \"xanchor\": \"left\", \"xref\": \"paper\", \"y\": 0.88625, \"yanchor\": \"middle\", \"yref\": \"paper\"}], \"barmode\": \"relative\", \"height\": 900, \"legend\": {\"tracegroupgap\": 0}, \"margin\": {\"t\": 60}, \"template\": {\"data\": {\"bar\": [{\"error_x\": {\"color\": \"#2a3f5f\"}, \"error_y\": {\"color\": \"#2a3f5f\"}, \"marker\": {\"line\": {\"color\": \"#E5ECF6\", \"width\": 0.5}}, \"type\": \"bar\"}], \"barpolar\": [{\"marker\": {\"line\": {\"color\": \"#E5ECF6\", \"width\": 0.5}}, \"type\": \"barpolar\"}], \"carpet\": [{\"aaxis\": {\"endlinecolor\": \"#2a3f5f\", \"gridcolor\": \"white\", \"linecolor\": \"white\", \"minorgridcolor\": \"white\", \"startlinecolor\": \"#2a3f5f\"}, \"baxis\": {\"endlinecolor\": \"#2a3f5f\", \"gridcolor\": \"white\", \"linecolor\": \"white\", \"minorgridcolor\": \"white\", \"startlinecolor\": \"#2a3f5f\"}, \"type\": \"carpet\"}], \"choropleth\": [{\"colorbar\": {\"outlinewidth\": 0, \"ticks\": \"\"}, \"type\": \"choropleth\"}], \"contour\": [{\"colorbar\": {\"outlinewidth\": 0, \"ticks\": \"\"}, \"colorscale\": [[0.0, \"#0d0887\"], [0.1111111111111111, \"#46039f\"], [0.2222222222222222, \"#7201a8\"], [0.3333333333333333, \"#9c179e\"], [0.4444444444444444, \"#bd3786\"], [0.5555555555555556, \"#d8576b\"], [0.6666666666666666, \"#ed7953\"], [0.7777777777777778, \"#fb9f3a\"], [0.8888888888888888, \"#fdca26\"], [1.0, \"#f0f921\"]], \"type\": \"contour\"}], \"contourcarpet\": [{\"colorbar\": {\"outlinewidth\": 0, \"ticks\": \"\"}, \"type\": \"contourcarpet\"}], \"heatmap\": [{\"colorbar\": {\"outlinewidth\": 0, \"ticks\": \"\"}, \"colorscale\": [[0.0, \"#0d0887\"], [0.1111111111111111, \"#46039f\"], [0.2222222222222222, \"#7201a8\"], [0.3333333333333333, \"#9c179e\"], [0.4444444444444444, \"#bd3786\"], [0.5555555555555556, \"#d8576b\"], [0.6666666666666666, \"#ed7953\"], [0.7777777777777778, \"#fb9f3a\"], [0.8888888888888888, \"#fdca26\"], [1.0, \"#f0f921\"]], \"type\": \"heatmap\"}], \"heatmapgl\": [{\"colorbar\": {\"outlinewidth\": 0, \"ticks\": \"\"}, \"colorscale\": [[0.0, \"#0d0887\"], [0.1111111111111111, \"#46039f\"], [0.2222222222222222, \"#7201a8\"], [0.3333333333333333, \"#9c179e\"], [0.4444444444444444, \"#bd3786\"], [0.5555555555555556, \"#d8576b\"], [0.6666666666666666, \"#ed7953\"], [0.7777777777777778, \"#fb9f3a\"], [0.8888888888888888, \"#fdca26\"], [1.0, \"#f0f921\"]], \"type\": \"heatmapgl\"}], \"histogram\": [{\"marker\": {\"colorbar\": {\"outlinewidth\": 0, \"ticks\": \"\"}}, \"type\": \"histogram\"}], \"histogram2d\": [{\"colorbar\": {\"outlinewidth\": 0, \"ticks\": \"\"}, \"colorscale\": [[0.0, \"#0d0887\"], [0.1111111111111111, \"#46039f\"], [0.2222222222222222, \"#7201a8\"], [0.3333333333333333, \"#9c179e\"], [0.4444444444444444, \"#bd3786\"], [0.5555555555555556, \"#d8576b\"], [0.6666666666666666, \"#ed7953\"], [0.7777777777777778, \"#fb9f3a\"], [0.8888888888888888, \"#fdca26\"], [1.0, \"#f0f921\"]], \"type\": \"histogram2d\"}], \"histogram2dcontour\": [{\"colorbar\": {\"outlinewidth\": 0, \"ticks\": \"\"}, \"colorscale\": [[0.0, \"#0d0887\"], [0.1111111111111111, \"#46039f\"], [0.2222222222222222, \"#7201a8\"], [0.3333333333333333, \"#9c179e\"], [0.4444444444444444, \"#bd3786\"], [0.5555555555555556, \"#d8576b\"], [0.6666666666666666, \"#ed7953\"], [0.7777777777777778, \"#fb9f3a\"], [0.8888888888888888, \"#fdca26\"], [1.0, \"#f0f921\"]], \"type\": \"histogram2dcontour\"}], \"mesh3d\": [{\"colorbar\": {\"outlinewidth\": 0, \"ticks\": \"\"}, \"type\": \"mesh3d\"}], \"parcoords\": [{\"line\": {\"colorbar\": {\"outlinewidth\": 0, \"ticks\": \"\"}}, \"type\": \"parcoords\"}], \"pie\": [{\"automargin\": true, \"type\": \"pie\"}], \"scatter\": [{\"marker\": {\"colorbar\": {\"outlinewidth\": 0, \"ticks\": \"\"}}, \"type\": \"scatter\"}], \"scatter3d\": [{\"line\": {\"colorbar\": {\"outlinewidth\": 0, \"ticks\": \"\"}}, \"marker\": {\"colorbar\": {\"outlinewidth\": 0, \"ticks\": \"\"}}, \"type\": \"scatter3d\"}], \"scattercarpet\": [{\"marker\": {\"colorbar\": {\"outlinewidth\": 0, \"ticks\": \"\"}}, \"type\": \"scattercarpet\"}], \"scattergeo\": [{\"marker\": {\"colorbar\": {\"outlinewidth\": 0, \"ticks\": \"\"}}, \"type\": \"scattergeo\"}], \"scattergl\": [{\"marker\": {\"colorbar\": {\"outlinewidth\": 0, \"ticks\": \"\"}}, \"type\": \"scattergl\"}], \"scattermapbox\": [{\"marker\": {\"colorbar\": {\"outlinewidth\": 0, \"ticks\": \"\"}}, \"type\": \"scattermapbox\"}], \"scatterpolar\": [{\"marker\": {\"colorbar\": {\"outlinewidth\": 0, \"ticks\": \"\"}}, \"type\": \"scatterpolar\"}], \"scatterpolargl\": [{\"marker\": {\"colorbar\": {\"outlinewidth\": 0, \"ticks\": \"\"}}, \"type\": \"scatterpolargl\"}], \"scatterternary\": [{\"marker\": {\"colorbar\": {\"outlinewidth\": 0, \"ticks\": \"\"}}, \"type\": \"scatterternary\"}], \"surface\": [{\"colorbar\": {\"outlinewidth\": 0, \"ticks\": \"\"}, \"colorscale\": [[0.0, \"#0d0887\"], [0.1111111111111111, \"#46039f\"], [0.2222222222222222, \"#7201a8\"], [0.3333333333333333, \"#9c179e\"], [0.4444444444444444, \"#bd3786\"], [0.5555555555555556, \"#d8576b\"], [0.6666666666666666, \"#ed7953\"], [0.7777777777777778, \"#fb9f3a\"], [0.8888888888888888, \"#fdca26\"], [1.0, \"#f0f921\"]], \"type\": \"surface\"}], \"table\": [{\"cells\": {\"fill\": {\"color\": \"#EBF0F8\"}, \"line\": {\"color\": \"white\"}}, \"header\": {\"fill\": {\"color\": \"#C8D4E3\"}, \"line\": {\"color\": \"white\"}}, \"type\": \"table\"}]}, \"layout\": {\"annotationdefaults\": {\"arrowcolor\": \"#2a3f5f\", \"arrowhead\": 0, \"arrowwidth\": 1}, \"coloraxis\": {\"colorbar\": {\"outlinewidth\": 0, \"ticks\": \"\"}}, \"colorscale\": {\"diverging\": [[0, \"#8e0152\"], [0.1, \"#c51b7d\"], [0.2, \"#de77ae\"], [0.3, \"#f1b6da\"], [0.4, \"#fde0ef\"], [0.5, \"#f7f7f7\"], [0.6, \"#e6f5d0\"], [0.7, \"#b8e186\"], [0.8, \"#7fbc41\"], [0.9, \"#4d9221\"], [1, \"#276419\"]], \"sequential\": [[0.0, \"#0d0887\"], [0.1111111111111111, \"#46039f\"], [0.2222222222222222, \"#7201a8\"], [0.3333333333333333, \"#9c179e\"], [0.4444444444444444, \"#bd3786\"], [0.5555555555555556, \"#d8576b\"], [0.6666666666666666, \"#ed7953\"], [0.7777777777777778, \"#fb9f3a\"], [0.8888888888888888, \"#fdca26\"], [1.0, \"#f0f921\"]], \"sequentialminus\": [[0.0, \"#0d0887\"], [0.1111111111111111, \"#46039f\"], [0.2222222222222222, \"#7201a8\"], [0.3333333333333333, \"#9c179e\"], [0.4444444444444444, \"#bd3786\"], [0.5555555555555556, \"#d8576b\"], [0.6666666666666666, \"#ed7953\"], [0.7777777777777778, \"#fb9f3a\"], [0.8888888888888888, \"#fdca26\"], [1.0, \"#f0f921\"]]}, \"colorway\": [\"#636efa\", \"#EF553B\", \"#00cc96\", \"#ab63fa\", \"#FFA15A\", \"#19d3f3\", \"#FF6692\", \"#B6E880\", \"#FF97FF\", \"#FECB52\"], \"font\": {\"color\": \"#2a3f5f\"}, \"geo\": {\"bgcolor\": \"white\", \"lakecolor\": \"white\", \"landcolor\": \"#E5ECF6\", \"showlakes\": true, \"showland\": true, \"subunitcolor\": \"white\"}, \"hoverlabel\": {\"align\": \"left\"}, \"hovermode\": \"closest\", \"mapbox\": {\"style\": \"light\"}, \"paper_bgcolor\": \"white\", \"plot_bgcolor\": \"#E5ECF6\", \"polar\": {\"angularaxis\": {\"gridcolor\": \"white\", \"linecolor\": \"white\", \"ticks\": \"\"}, \"bgcolor\": \"#E5ECF6\", \"radialaxis\": {\"gridcolor\": \"white\", \"linecolor\": \"white\", \"ticks\": \"\"}}, \"scene\": {\"xaxis\": {\"backgroundcolor\": \"#E5ECF6\", \"gridcolor\": \"white\", \"gridwidth\": 2, \"linecolor\": \"white\", \"showbackground\": true, \"ticks\": \"\", \"zerolinecolor\": \"white\"}, \"yaxis\": {\"backgroundcolor\": \"#E5ECF6\", \"gridcolor\": \"white\", \"gridwidth\": 2, \"linecolor\": \"white\", \"showbackground\": true, \"ticks\": \"\", \"zerolinecolor\": \"white\"}, \"zaxis\": {\"backgroundcolor\": \"#E5ECF6\", \"gridcolor\": \"white\", \"gridwidth\": 2, \"linecolor\": \"white\", \"showbackground\": true, \"ticks\": \"\", \"zerolinecolor\": \"white\"}}, \"shapedefaults\": {\"line\": {\"color\": \"#2a3f5f\"}}, \"ternary\": {\"aaxis\": {\"gridcolor\": \"white\", \"linecolor\": \"white\", \"ticks\": \"\"}, \"baxis\": {\"gridcolor\": \"white\", \"linecolor\": \"white\", \"ticks\": \"\"}, \"bgcolor\": \"#E5ECF6\", \"caxis\": {\"gridcolor\": \"white\", \"linecolor\": \"white\", \"ticks\": \"\"}}, \"title\": {\"x\": 0.05}, \"xaxis\": {\"automargin\": true, \"gridcolor\": \"white\", \"linecolor\": \"white\", \"ticks\": \"\", \"title\": {\"standoff\": 15}, \"zerolinecolor\": \"white\", \"zerolinewidth\": 2}, \"yaxis\": {\"automargin\": true, \"gridcolor\": \"white\", \"linecolor\": \"white\", \"ticks\": \"\", \"title\": {\"standoff\": 15}, \"zerolinecolor\": \"white\", \"zerolinewidth\": 2}}}, \"width\": 1200, \"xaxis\": {\"anchor\": \"y\", \"domain\": [0.0, 0.3133333333333333], \"title\": {\"text\": \"fecha\"}}, \"xaxis10\": {\"anchor\": \"y10\", \"domain\": [0.0, 0.3133333333333333], \"matches\": \"x\", \"showticklabels\": false}, \"xaxis11\": {\"anchor\": \"y11\", \"domain\": [0.3333333333333333, 0.6466666666666666], \"matches\": \"x\", \"showticklabels\": false}, \"xaxis12\": {\"anchor\": \"y12\", \"domain\": [0.6666666666666666, 0.98], \"matches\": \"x\", \"showticklabels\": false}, \"xaxis2\": {\"anchor\": \"y2\", \"domain\": [0.3333333333333333, 0.6466666666666666], \"matches\": \"x\", \"title\": {\"text\": \"fecha\"}}, \"xaxis3\": {\"anchor\": \"y3\", \"domain\": [0.6666666666666666, 0.98], \"matches\": \"x\", \"title\": {\"text\": \"fecha\"}}, \"xaxis4\": {\"anchor\": \"y4\", \"domain\": [0.0, 0.3133333333333333], \"matches\": \"x\", \"showticklabels\": false}, \"xaxis5\": {\"anchor\": \"y5\", \"domain\": [0.3333333333333333, 0.6466666666666666], \"matches\": \"x\", \"showticklabels\": false}, \"xaxis6\": {\"anchor\": \"y6\", \"domain\": [0.6666666666666666, 0.98], \"matches\": \"x\", \"showticklabels\": false}, \"xaxis7\": {\"anchor\": \"y7\", \"domain\": [0.0, 0.3133333333333333], \"matches\": \"x\", \"showticklabels\": false}, \"xaxis8\": {\"anchor\": \"y8\", \"domain\": [0.3333333333333333, 0.6466666666666666], \"matches\": \"x\", \"showticklabels\": false}, \"xaxis9\": {\"anchor\": \"y9\", \"domain\": [0.6666666666666666, 0.98], \"matches\": \"x\", \"showticklabels\": false}, \"yaxis\": {\"anchor\": \"x\", \"domain\": [0.0, 0.2275], \"title\": {\"text\": \"count of costo_prev\"}}, \"yaxis10\": {\"anchor\": \"x10\", \"domain\": [0.7725, 1.0], \"matches\": \"y\", \"title\": {\"text\": \"count of costo_prev\"}}, \"yaxis11\": {\"anchor\": \"x11\", \"domain\": [0.7725, 1.0], \"matches\": \"y\", \"showticklabels\": false}, \"yaxis12\": {\"anchor\": \"x12\", \"domain\": [0.7725, 1.0], \"matches\": \"y\", \"showticklabels\": false}, \"yaxis2\": {\"anchor\": \"x2\", \"domain\": [0.0, 0.2275], \"matches\": \"y\", \"showticklabels\": false}, \"yaxis3\": {\"anchor\": \"x3\", \"domain\": [0.0, 0.2275], \"matches\": \"y\", \"showticklabels\": false}, \"yaxis4\": {\"anchor\": \"x4\", \"domain\": [0.2575, 0.485], \"matches\": \"y\", \"title\": {\"text\": \"count of costo_prev\"}}, \"yaxis5\": {\"anchor\": \"x5\", \"domain\": [0.2575, 0.485], \"matches\": \"y\", \"showticklabels\": false}, \"yaxis6\": {\"anchor\": \"x6\", \"domain\": [0.2575, 0.485], \"matches\": \"y\", \"showticklabels\": false}, \"yaxis7\": {\"anchor\": \"x7\", \"domain\": [0.515, 0.7425], \"matches\": \"y\", \"title\": {\"text\": \"count of costo_prev\"}}, \"yaxis8\": {\"anchor\": \"x8\", \"domain\": [0.515, 0.7425], \"matches\": \"y\", \"showticklabels\": false}, \"yaxis9\": {\"anchor\": \"x9\", \"domain\": [0.515, 0.7425], \"matches\": \"y\", \"showticklabels\": false}},\n",
              "                        {\"responsive\": true}\n",
              "                    ).then(function(){\n",
              "                            \n",
              "var gd = document.getElementById('329fe601-54d1-480f-b028-d680f526b496');\n",
              "var x = new MutationObserver(function (mutations, observer) {{\n",
              "        var display = window.getComputedStyle(gd).display;\n",
              "        if (!display || display === 'none') {{\n",
              "            console.log([gd, 'removed!']);\n",
              "            Plotly.purge(gd);\n",
              "            observer.disconnect();\n",
              "        }}\n",
              "}});\n",
              "\n",
              "// Listen for the removal of the full notebook cells\n",
              "var notebookContainer = gd.closest('#notebook-container');\n",
              "if (notebookContainer) {{\n",
              "    x.observe(notebookContainer, {childList: true});\n",
              "}}\n",
              "\n",
              "// Listen for the clearing of the current output cell\n",
              "var outputEl = gd.closest('.output');\n",
              "if (outputEl) {{\n",
              "    x.observe(outputEl, {childList: true});\n",
              "}}\n",
              "\n",
              "                        })\n",
              "                };\n",
              "                \n",
              "            </script>\n",
              "        </div>\n",
              "</body>\n",
              "</html>"
            ]
          },
          "metadata": {
            "tags": []
          }
        }
      ]
    }
  ]
}