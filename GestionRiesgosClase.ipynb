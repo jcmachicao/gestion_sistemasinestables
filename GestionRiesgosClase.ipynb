{
  "nbformat": 4,
  "nbformat_minor": 0,
  "metadata": {
    "colab": {
      "name": "GestionRiesgosClase.ipynb",
      "provenance": [],
      "collapsed_sections": [
        "h7xxOUg5ux9u",
        "7LtESbUCnBwv",
        "IJqu9815vBSn",
        "Psjho7PktxbW",
        "5MiHFKvVDxmE",
        "L5Do0G_7Dmzo"
      ],
      "toc_visible": true
    },
    "kernelspec": {
      "name": "python3",
      "display_name": "Python 3"
    }
  },
  "cells": [
    {
      "cell_type": "markdown",
      "metadata": {
        "id": "jmaJav6CbnBQ",
        "colab_type": "text"
      },
      "source": [
        "# Gestión de Riesgos por Simulaciones\n",
        "Autor: José Carlos Machicao (GestioDinámica)<br>\n",
        "Actualizado: 2019_11_07<br>"
      ]
    },
    {
      "cell_type": "markdown",
      "metadata": {
        "id": "shnzd7fNwR39",
        "colab_type": "text"
      },
      "source": [
        "La gestión de riesgos es una subdisciplina de la gestión. Hacia 1950, fue concebida como una reacción bastante lúcida a las incertidumbres que se presentaban al tratar de implementar logros en las organizaciones. \n",
        "\n",
        "Estudia la toma de decisiones en situaciones de incertidumbre. Utiliza la probabilidad como un dato para la toma de decisiones, evaluando el impacto en los logros que se implementa en alguna acción organizacional. \n",
        "\n",
        "El reto de la gestión de riesgos hoy (2020) es que todavía permanece como un enfoque de tránsito con demasiadas bases en los enfoques deterministas y reduccionistas de gestión, pero en el futuro evolucionará como gestión de inestabilidades en sistemas complejos.<br>"
      ]
    },
    {
      "cell_type": "markdown",
      "metadata": {
        "id": "9Xpg0hkIca2V",
        "colab_type": "text"
      },
      "source": [
        "## Carga de Librerías y Archivos"
      ]
    },
    {
      "cell_type": "code",
      "metadata": {
        "id": "ye4Gi2jqcgGm",
        "colab_type": "code",
        "colab": {}
      },
      "source": [
        "import matplotlib.pyplot as plt\n",
        "import pandas as pd\n",
        "import numpy as np\n",
        "import io\n",
        "from google.colab import files\n",
        "from statsmodels.graphics.mosaicplot import mosaic\n",
        "from google.colab import files\n",
        "%load_ext google.colab.data_table"
      ],
      "execution_count": 0,
      "outputs": []
    },
    {
      "cell_type": "code",
      "metadata": {
        "id": "L7rBYZwHbhUd",
        "colab_type": "code",
        "cellView": "form",
        "colab": {}
      },
      "source": [
        "#@title Definición manual de datos\n",
        "riesgo =        ['R01','R02','R03','R04','R05','R06','R07','R08','R09','R10',\n",
        "                 'R11','R12','R13','R14','R15','R16','R17','R18','R19','R20']\n",
        "impac =         [2.0,4.5,4.3,3.0,7.0, 5.0,3.3,5.3,5.5,7.5, 9.0,8.0,4.0,3.9,3.0, 4.5,5.0,9.0,7.0,6.0]\n",
        "proba =         [3.0,4.0,6.0,8.3,7.2, 8.5,4.0,5.0,6.0,3.5, 3.0,2.3,8.0,3.5,9.5, 2.2,2.0,8.3,3.0,2.0]\n",
        "supervisor =  ['A', 'B', 'C', 'A', 'B', 'C', 'A', 'B', 'C', 'A', 'B', 'C', 'A', 'B', 'C', 'A', 'B', 'C', 'A', 'B']\n",
        "area =        ['Z1', 'Z3', 'Z3', 'Z2', 'Z1', 'Z1', 'Z3', 'Z3', 'Z2', 'Z1', 'Z1', 'Z3', 'Z3', 'Z2', 'Z1', 'Z1', 'Z3', 'Z3', 'Z2', 'Z1']"
      ],
      "execution_count": 0,
      "outputs": []
    },
    {
      "cell_type": "code",
      "metadata": {
        "id": "Ss7VE_mrUyJx",
        "colab_type": "code",
        "outputId": "f75adc4d-5bbf-4bc0-a767-b8f2b33d3276",
        "cellView": "form",
        "colab": {
          "resources": {
            "http://localhost:8080/nbextensions/google.colab/files.js": {
              "data": "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",
              "ok": true,
              "headers": [
                [
                  "content-type",
                  "application/javascript"
                ]
              ],
              "status": 200,
              "status_text": ""
            }
          },
          "base_uri": "https://localhost:8080/",
          "height": 92
        }
      },
      "source": [
        "#@title Carga Alternativa de Archivo Externo\n",
        "uploaded = files.upload()\n",
        "for fn in uploaded.keys():\n",
        "  print('Se ha cargado el archivo \"{name}\" de longitud {length} bytes'.format(\n",
        "      name=fn, length=len(uploaded[fn])))"
      ],
      "execution_count": 0,
      "outputs": [
        {
          "output_type": "display_data",
          "data": {
            "text/html": [
              "\n",
              "     <input type=\"file\" id=\"files-2032c3e4-90be-4b1f-b600-23effa5c8164\" name=\"files[]\" multiple disabled />\n",
              "     <output id=\"result-2032c3e4-90be-4b1f-b600-23effa5c8164\">\n",
              "      Upload widget is only available when the cell has been executed in the\n",
              "      current browser session. Please rerun this cell to enable.\n",
              "      </output>\n",
              "      <script src=\"/nbextensions/google.colab/files.js\"></script> "
            ],
            "text/plain": [
              "<IPython.core.display.HTML object>"
            ]
          },
          "metadata": {
            "tags": []
          }
        },
        {
          "output_type": "stream",
          "text": [
            "Saving riesgos_bd.xlsx to riesgos_bd.xlsx\n",
            "Se ha cargado el archivo \"riesgos_bd.xlsx\" de longitud 11897 bytes\n"
          ],
          "name": "stdout"
        }
      ]
    },
    {
      "cell_type": "code",
      "metadata": {
        "id": "YG1c-dk4cVjp",
        "colab_type": "code",
        "outputId": "ba35724d-5850-48a5-e870-1cc7d3e65265",
        "colab": {
          "base_uri": "https://localhost:8080/",
          "height": 194
        }
      },
      "source": [
        "#data_df.read_excel('bd_riesgos.xlsx')\n",
        "data_df = pd.DataFrame([riesgo, impac, proba, supervisor, area]).transpose()\n",
        "data_df.columns = ['nombre', 'impacto', 'probab', 'superv', 'area']\n",
        "data_df['impacto'] = pd.to_numeric(data_df.impacto, downcast='float')\n",
        "data_df['probab'] = pd.to_numeric(data_df.probab, downcast='float')\n",
        "data_df.info()"
      ],
      "execution_count": 3,
      "outputs": [
        {
          "output_type": "stream",
          "text": [
            "<class 'pandas.core.frame.DataFrame'>\n",
            "RangeIndex: 20 entries, 0 to 19\n",
            "Data columns (total 5 columns):\n",
            "nombre     20 non-null object\n",
            "impacto    20 non-null float32\n",
            "probab     20 non-null float32\n",
            "superv     20 non-null object\n",
            "area       20 non-null object\n",
            "dtypes: float32(2), object(3)\n",
            "memory usage: 768.0+ bytes\n"
          ],
          "name": "stdout"
        }
      ]
    },
    {
      "cell_type": "markdown",
      "metadata": {
        "id": "y-KiXJRbjghI",
        "colab_type": "text"
      },
      "source": [
        "## Exploración y Caracterización de Datos"
      ]
    },
    {
      "cell_type": "code",
      "metadata": {
        "id": "rkJQh96jK4av",
        "colab_type": "code",
        "colab": {
          "base_uri": "https://localhost:8080/",
          "height": 284
        },
        "outputId": "fff49b06-0c09-4241-c67c-c88454eedb79"
      },
      "source": [
        "data_df"
      ],
      "execution_count": 5,
      "outputs": [
        {
          "output_type": "execute_result",
          "data": {
            "application/vnd.google.colaboratory.module+javascript": "\n      import \"https://ssl.gstatic.com/colaboratory/data_table/9e554b27bdd509f3/data_table.js\";\n\n      window.createDataTable({\n        data: [[{\n            'v': 0,\n            'f': \"0\",\n        },\n\"R01\",\n{\n            'v': 2.0,\n            'f': \"2.0\",\n        },\n{\n            'v': 3.0,\n            'f': \"3.0\",\n        },\n\"A\",\n\"Z1\"],\n [{\n            'v': 1,\n            'f': \"1\",\n        },\n\"R02\",\n{\n            'v': 4.5,\n            'f': \"4.5\",\n        },\n{\n            'v': 4.0,\n            'f': \"4.0\",\n        },\n\"B\",\n\"Z3\"],\n [{\n            'v': 2,\n            'f': \"2\",\n        },\n\"R03\",\n{\n            'v': 4.300000190734863,\n            'f': \"4.300000190734863\",\n        },\n{\n            'v': 6.0,\n            'f': \"6.0\",\n        },\n\"C\",\n\"Z3\"],\n [{\n            'v': 3,\n            'f': \"3\",\n        },\n\"R04\",\n{\n            'v': 3.0,\n            'f': \"3.0\",\n        },\n{\n            'v': 8.300000190734863,\n            'f': \"8.300000190734863\",\n        },\n\"A\",\n\"Z2\"],\n [{\n            'v': 4,\n            'f': \"4\",\n        },\n\"R05\",\n{\n            'v': 7.0,\n            'f': \"7.0\",\n        },\n{\n            'v': 7.199999809265137,\n            'f': \"7.199999809265137\",\n        },\n\"B\",\n\"Z1\"],\n [{\n            'v': 5,\n            'f': \"5\",\n        },\n\"R06\",\n{\n            'v': 5.0,\n            'f': \"5.0\",\n        },\n{\n            'v': 8.5,\n            'f': \"8.5\",\n        },\n\"C\",\n\"Z1\"],\n [{\n            'v': 6,\n            'f': \"6\",\n        },\n\"R07\",\n{\n            'v': 3.299999952316284,\n            'f': \"3.299999952316284\",\n        },\n{\n            'v': 4.0,\n            'f': \"4.0\",\n        },\n\"A\",\n\"Z3\"],\n [{\n            'v': 7,\n            'f': \"7\",\n        },\n\"R08\",\n{\n            'v': 5.300000190734863,\n            'f': \"5.300000190734863\",\n        },\n{\n            'v': 5.0,\n            'f': \"5.0\",\n        },\n\"B\",\n\"Z3\"],\n [{\n            'v': 8,\n            'f': \"8\",\n        },\n\"R09\",\n{\n            'v': 5.5,\n            'f': \"5.5\",\n        },\n{\n            'v': 6.0,\n            'f': \"6.0\",\n        },\n\"C\",\n\"Z2\"],\n [{\n            'v': 9,\n            'f': \"9\",\n        },\n\"R10\",\n{\n            'v': 7.5,\n            'f': \"7.5\",\n        },\n{\n            'v': 3.5,\n            'f': \"3.5\",\n        },\n\"A\",\n\"Z1\"],\n [{\n            'v': 10,\n            'f': \"10\",\n        },\n\"R11\",\n{\n            'v': 9.0,\n            'f': \"9.0\",\n        },\n{\n            'v': 3.0,\n            'f': \"3.0\",\n        },\n\"B\",\n\"Z1\"],\n [{\n            'v': 11,\n            'f': \"11\",\n        },\n\"R12\",\n{\n            'v': 8.0,\n            'f': \"8.0\",\n        },\n{\n            'v': 2.299999952316284,\n            'f': \"2.299999952316284\",\n        },\n\"C\",\n\"Z3\"],\n [{\n            'v': 12,\n            'f': \"12\",\n        },\n\"R13\",\n{\n            'v': 4.0,\n            'f': \"4.0\",\n        },\n{\n            'v': 8.0,\n            'f': \"8.0\",\n        },\n\"A\",\n\"Z3\"],\n [{\n            'v': 13,\n            'f': \"13\",\n        },\n\"R14\",\n{\n            'v': 3.9000000953674316,\n            'f': \"3.9000000953674316\",\n        },\n{\n            'v': 3.5,\n            'f': \"3.5\",\n        },\n\"B\",\n\"Z2\"],\n [{\n            'v': 14,\n            'f': \"14\",\n        },\n\"R15\",\n{\n            'v': 3.0,\n            'f': \"3.0\",\n        },\n{\n            'v': 9.5,\n            'f': \"9.5\",\n        },\n\"C\",\n\"Z1\"],\n [{\n            'v': 15,\n            'f': \"15\",\n        },\n\"R16\",\n{\n            'v': 4.5,\n            'f': \"4.5\",\n        },\n{\n            'v': 2.200000047683716,\n            'f': \"2.200000047683716\",\n        },\n\"A\",\n\"Z1\"],\n [{\n            'v': 16,\n            'f': \"16\",\n        },\n\"R17\",\n{\n            'v': 5.0,\n            'f': \"5.0\",\n        },\n{\n            'v': 2.0,\n            'f': \"2.0\",\n        },\n\"B\",\n\"Z3\"],\n [{\n            'v': 17,\n            'f': \"17\",\n        },\n\"R18\",\n{\n            'v': 9.0,\n            'f': \"9.0\",\n        },\n{\n            'v': 8.300000190734863,\n            'f': \"8.300000190734863\",\n        },\n\"C\",\n\"Z3\"],\n [{\n            'v': 18,\n            'f': \"18\",\n        },\n\"R19\",\n{\n            'v': 7.0,\n            'f': \"7.0\",\n        },\n{\n            'v': 3.0,\n            'f': \"3.0\",\n        },\n\"A\",\n\"Z2\"],\n [{\n            'v': 19,\n            'f': \"19\",\n        },\n\"R20\",\n{\n            'v': 6.0,\n            'f': \"6.0\",\n        },\n{\n            'v': 2.0,\n            'f': \"2.0\",\n        },\n\"B\",\n\"Z1\"]],\n        columns: [[\"number\", \"index\"], [\"string\", \"nombre\"], [\"number\", \"impacto\"], [\"number\", \"probab\"], [\"string\", \"superv\"], [\"string\", \"area\"]],\n        columnOptions: [{\"width\": \"1px\", \"className\": \"index_column\"}],\n        rowsPerPage: 25,\n        helpUrl: \"https://colab.research.google.com/notebooks/data_table.ipynb\",\n      });\n    ",
            "text/html": [
              "<div>\n",
              "<style scoped>\n",
              "    .dataframe tbody tr th:only-of-type {\n",
              "        vertical-align: middle;\n",
              "    }\n",
              "\n",
              "    .dataframe tbody tr th {\n",
              "        vertical-align: top;\n",
              "    }\n",
              "\n",
              "    .dataframe thead th {\n",
              "        text-align: right;\n",
              "    }\n",
              "</style>\n",
              "<table border=\"1\" class=\"dataframe\">\n",
              "  <thead>\n",
              "    <tr style=\"text-align: right;\">\n",
              "      <th></th>\n",
              "      <th>nombre</th>\n",
              "      <th>impacto</th>\n",
              "      <th>probab</th>\n",
              "      <th>superv</th>\n",
              "      <th>area</th>\n",
              "    </tr>\n",
              "  </thead>\n",
              "  <tbody>\n",
              "    <tr>\n",
              "      <th>0</th>\n",
              "      <td>R01</td>\n",
              "      <td>2.0</td>\n",
              "      <td>3.0</td>\n",
              "      <td>A</td>\n",
              "      <td>Z1</td>\n",
              "    </tr>\n",
              "    <tr>\n",
              "      <th>1</th>\n",
              "      <td>R02</td>\n",
              "      <td>4.5</td>\n",
              "      <td>4.0</td>\n",
              "      <td>B</td>\n",
              "      <td>Z3</td>\n",
              "    </tr>\n",
              "    <tr>\n",
              "      <th>2</th>\n",
              "      <td>R03</td>\n",
              "      <td>4.3</td>\n",
              "      <td>6.0</td>\n",
              "      <td>C</td>\n",
              "      <td>Z3</td>\n",
              "    </tr>\n",
              "    <tr>\n",
              "      <th>3</th>\n",
              "      <td>R04</td>\n",
              "      <td>3.0</td>\n",
              "      <td>8.3</td>\n",
              "      <td>A</td>\n",
              "      <td>Z2</td>\n",
              "    </tr>\n",
              "    <tr>\n",
              "      <th>4</th>\n",
              "      <td>R05</td>\n",
              "      <td>7.0</td>\n",
              "      <td>7.2</td>\n",
              "      <td>B</td>\n",
              "      <td>Z1</td>\n",
              "    </tr>\n",
              "    <tr>\n",
              "      <th>5</th>\n",
              "      <td>R06</td>\n",
              "      <td>5.0</td>\n",
              "      <td>8.5</td>\n",
              "      <td>C</td>\n",
              "      <td>Z1</td>\n",
              "    </tr>\n",
              "    <tr>\n",
              "      <th>6</th>\n",
              "      <td>R07</td>\n",
              "      <td>3.3</td>\n",
              "      <td>4.0</td>\n",
              "      <td>A</td>\n",
              "      <td>Z3</td>\n",
              "    </tr>\n",
              "    <tr>\n",
              "      <th>7</th>\n",
              "      <td>R08</td>\n",
              "      <td>5.3</td>\n",
              "      <td>5.0</td>\n",
              "      <td>B</td>\n",
              "      <td>Z3</td>\n",
              "    </tr>\n",
              "    <tr>\n",
              "      <th>8</th>\n",
              "      <td>R09</td>\n",
              "      <td>5.5</td>\n",
              "      <td>6.0</td>\n",
              "      <td>C</td>\n",
              "      <td>Z2</td>\n",
              "    </tr>\n",
              "    <tr>\n",
              "      <th>9</th>\n",
              "      <td>R10</td>\n",
              "      <td>7.5</td>\n",
              "      <td>3.5</td>\n",
              "      <td>A</td>\n",
              "      <td>Z1</td>\n",
              "    </tr>\n",
              "    <tr>\n",
              "      <th>10</th>\n",
              "      <td>R11</td>\n",
              "      <td>9.0</td>\n",
              "      <td>3.0</td>\n",
              "      <td>B</td>\n",
              "      <td>Z1</td>\n",
              "    </tr>\n",
              "    <tr>\n",
              "      <th>11</th>\n",
              "      <td>R12</td>\n",
              "      <td>8.0</td>\n",
              "      <td>2.3</td>\n",
              "      <td>C</td>\n",
              "      <td>Z3</td>\n",
              "    </tr>\n",
              "    <tr>\n",
              "      <th>12</th>\n",
              "      <td>R13</td>\n",
              "      <td>4.0</td>\n",
              "      <td>8.0</td>\n",
              "      <td>A</td>\n",
              "      <td>Z3</td>\n",
              "    </tr>\n",
              "    <tr>\n",
              "      <th>13</th>\n",
              "      <td>R14</td>\n",
              "      <td>3.9</td>\n",
              "      <td>3.5</td>\n",
              "      <td>B</td>\n",
              "      <td>Z2</td>\n",
              "    </tr>\n",
              "    <tr>\n",
              "      <th>14</th>\n",
              "      <td>R15</td>\n",
              "      <td>3.0</td>\n",
              "      <td>9.5</td>\n",
              "      <td>C</td>\n",
              "      <td>Z1</td>\n",
              "    </tr>\n",
              "    <tr>\n",
              "      <th>15</th>\n",
              "      <td>R16</td>\n",
              "      <td>4.5</td>\n",
              "      <td>2.2</td>\n",
              "      <td>A</td>\n",
              "      <td>Z1</td>\n",
              "    </tr>\n",
              "    <tr>\n",
              "      <th>16</th>\n",
              "      <td>R17</td>\n",
              "      <td>5.0</td>\n",
              "      <td>2.0</td>\n",
              "      <td>B</td>\n",
              "      <td>Z3</td>\n",
              "    </tr>\n",
              "    <tr>\n",
              "      <th>17</th>\n",
              "      <td>R18</td>\n",
              "      <td>9.0</td>\n",
              "      <td>8.3</td>\n",
              "      <td>C</td>\n",
              "      <td>Z3</td>\n",
              "    </tr>\n",
              "    <tr>\n",
              "      <th>18</th>\n",
              "      <td>R19</td>\n",
              "      <td>7.0</td>\n",
              "      <td>3.0</td>\n",
              "      <td>A</td>\n",
              "      <td>Z2</td>\n",
              "    </tr>\n",
              "    <tr>\n",
              "      <th>19</th>\n",
              "      <td>R20</td>\n",
              "      <td>6.0</td>\n",
              "      <td>2.0</td>\n",
              "      <td>B</td>\n",
              "      <td>Z1</td>\n",
              "    </tr>\n",
              "  </tbody>\n",
              "</table>\n",
              "</div>"
            ],
            "text/plain": [
              "   nombre  impacto  probab superv area\n",
              "0     R01      2.0     3.0      A   Z1\n",
              "1     R02      4.5     4.0      B   Z3\n",
              "2     R03      4.3     6.0      C   Z3\n",
              "3     R04      3.0     8.3      A   Z2\n",
              "4     R05      7.0     7.2      B   Z1\n",
              "5     R06      5.0     8.5      C   Z1\n",
              "6     R07      3.3     4.0      A   Z3\n",
              "7     R08      5.3     5.0      B   Z3\n",
              "8     R09      5.5     6.0      C   Z2\n",
              "9     R10      7.5     3.5      A   Z1\n",
              "10    R11      9.0     3.0      B   Z1\n",
              "11    R12      8.0     2.3      C   Z3\n",
              "12    R13      4.0     8.0      A   Z3\n",
              "13    R14      3.9     3.5      B   Z2\n",
              "14    R15      3.0     9.5      C   Z1\n",
              "15    R16      4.5     2.2      A   Z1\n",
              "16    R17      5.0     2.0      B   Z3\n",
              "17    R18      9.0     8.3      C   Z3\n",
              "18    R19      7.0     3.0      A   Z2\n",
              "19    R20      6.0     2.0      B   Z1"
            ]
          },
          "metadata": {
            "tags": []
          },
          "execution_count": 5
        }
      ]
    },
    {
      "cell_type": "code",
      "metadata": {
        "id": "rUcMLDzwjbIW",
        "colab_type": "code",
        "outputId": "63d93d7d-b85a-40b6-8eec-0dac60f2a589",
        "colab": {
          "base_uri": "https://localhost:8080/",
          "height": 226
        }
      },
      "source": [
        "n_cols = len(data_df.columns)\n",
        "fig, axs = plt.subplots(1,n_cols, figsize=(15,3), facecolor='w', edgecolor='k')\n",
        "fig.subplots_adjust(hspace = 0.5, wspace=.001)\n",
        "axs = axs.ravel()\n",
        "for i in range(n_cols):\n",
        "    axs[i].hist(data_df[data_df.columns[i]])\n",
        "    axs[i].set_title(data_df.columns[i])"
      ],
      "execution_count": 4,
      "outputs": [
        {
          "output_type": "display_data",
          "data": {
            "image/png": "[encoded data removed]",
            "text/plain": [
              "<Figure size 1080x216 with 5 Axes>"
            ]
          },
          "metadata": {
            "tags": []
          }
        }
      ]
    },
    {
      "cell_type": "markdown",
      "metadata": {
        "id": "-Keq00mCbt8r",
        "colab_type": "text"
      },
      "source": [
        "## Matriz de Impacto y Probabilidad"
      ]
    },
    {
      "cell_type": "code",
      "metadata": {
        "id": "R4PE71_c_S8Y",
        "colab_type": "code",
        "colab": {}
      },
      "source": [
        "var_color = data_df.area\n",
        "var_label = data_df.area\n",
        "eje_x = data_df.impacto\n",
        "eje_y = data_df.probab"
      ],
      "execution_count": 0,
      "outputs": []
    },
    {
      "cell_type": "code",
      "metadata": {
        "id": "63t2wGF7eVZ-",
        "colab_type": "code",
        "cellView": "form",
        "colab": {}
      },
      "source": [
        "#@title Gráfica de Valor Esperado (simple)\n",
        "plt.figure(figsize=(12,8))\n",
        "plt.scatter(eje_x, eje_y, s=100, marker='s',\n",
        "            c=pd.factorize(var_color)[0]+1,\n",
        "            cmap='Set1')\n",
        "for j in range(20):\n",
        "  plt.text(eje_x[j], eje_y[j], var_label[j],\n",
        "           fontsize=15)\n",
        "plt.xlabel('eje_x')\n",
        "plt.ylabel('eje_y')\n",
        "plt.legend()\n",
        "plt.show()"
      ],
      "execution_count": 0,
      "outputs": []
    },
    {
      "cell_type": "code",
      "metadata": {
        "id": "760SDv3qjHay",
        "colab_type": "code",
        "colab": {}
      },
      "source": [
        "data_df['VER'] = data_df.impacto * data_df.probab"
      ],
      "execution_count": 0,
      "outputs": []
    },
    {
      "cell_type": "code",
      "metadata": {
        "colab_type": "code",
        "cellView": "form",
        "id": "o-V0z2m0jZIj",
        "colab": {}
      },
      "source": [
        "#@title Gráfica de Valor Esperado con diámetros VER\n",
        "plt.figure(figsize=(12,8))\n",
        "plt.scatter(data_df.impacto, data_df.probab, \n",
        "            s=pd.Series([np.round(float(i)*10) for i in data_df.VER]), \n",
        "            marker='s',\n",
        "            c=pd.factorize(data_df.superv)[0]+1,\n",
        "            cmap='Set1'\n",
        "            )\n",
        "for j in range(20):\n",
        "  plt.text(data_df.impacto[j], data_df.probab[j], \n",
        "           data_df.nombre[j],\n",
        "           fontsize=12)\n",
        "plt.xlabel('Impacto')\n",
        "plt.ylabel('Probabilidad')\n",
        "\n",
        "for area in ['Z1', 'Z2', 'Z3']:\n",
        "    plt.scatter([], [],\n",
        "                c='k',\n",
        "                alpha=0.3,\n",
        "                label=str(area), cmap='Set1')\n",
        "plt.legend(scatterpoints=1, \n",
        "           labelspacing=1, \n",
        "           title='Zonas')\n",
        "plt.show()"
      ],
      "execution_count": 0,
      "outputs": []
    },
    {
      "cell_type": "markdown",
      "metadata": {
        "id": "7LtESbUCnBwv",
        "colab_type": "text"
      },
      "source": [
        "## Implementación de Respuestas"
      ]
    },
    {
      "cell_type": "code",
      "metadata": {
        "id": "KSQbW4eSnAzr",
        "colab_type": "code",
        "colab": {}
      },
      "source": [
        "red_impacto = [1.0,0.0,0.0,1.0,0.0, 0.0,2.0,1.0,0.0,1.0, 0.0,1.0,1.0,1.0,1.0, 0.0,0.0,1.0,1.0,1.0]\n",
        "red_probab =  [0.0,0.0,1.0,0.0,0.0, 1.0,2.0,1.0,0.0,1.0, 1.0,0.0,2.0,0.0,0.0, 1.0,1.0,2.0,2.0,0.0]\n",
        "costo_resp =  [4.3,0.0,4.4,4.1,0.0, 4.9,8.2,6.4,0.0,4.4, 6.8,4.5,2.2,2.8,4.1, 6.1,4.2,8.9,12.2,4.3]\n",
        "data_df['impa_nuevo'] = data_df.impacto - red_impacto\n",
        "data_df['prob_nueva'] = data_df.probab - red_probab\n",
        "data_df['VER_n'] = data_df.impa_nuevo * data_df.prob_nueva\n",
        "data_df['c_resp'] = costo_resp\n",
        "data_df['verif_resp'] = ((data_df.VER - data_df.VER_n) >= data_df.c_resp) & (data_df.c_resp != 0)\n",
        "#data_df['delta']"
      ],
      "execution_count": 0,
      "outputs": []
    },
    {
      "cell_type": "code",
      "metadata": {
        "id": "ZGSY6WMfoB88",
        "colab_type": "code",
        "outputId": "7d4a5381-15bc-48b2-96d8-4adb7c8dae14",
        "colab": {
          "base_uri": "https://localhost:8080/",
          "height": 197
        }
      },
      "source": [
        "data_df.head()"
      ],
      "execution_count": 0,
      "outputs": [
        {
          "output_type": "execute_result",
          "data": {
            "text/html": [
              "<div>\n",
              "<style scoped>\n",
              "    .dataframe tbody tr th:only-of-type {\n",
              "        vertical-align: middle;\n",
              "    }\n",
              "\n",
              "    .dataframe tbody tr th {\n",
              "        vertical-align: top;\n",
              "    }\n",
              "\n",
              "    .dataframe thead th {\n",
              "        text-align: right;\n",
              "    }\n",
              "</style>\n",
              "<table border=\"1\" class=\"dataframe\">\n",
              "  <thead>\n",
              "    <tr style=\"text-align: right;\">\n",
              "      <th></th>\n",
              "      <th>nombre</th>\n",
              "      <th>impacto</th>\n",
              "      <th>probab</th>\n",
              "      <th>superv</th>\n",
              "      <th>area</th>\n",
              "      <th>impa_nuevo</th>\n",
              "      <th>prob_nueva</th>\n",
              "      <th>VER_n</th>\n",
              "      <th>c_resp</th>\n",
              "      <th>VER</th>\n",
              "      <th>verif_resp</th>\n",
              "    </tr>\n",
              "  </thead>\n",
              "  <tbody>\n",
              "    <tr>\n",
              "      <th>0</th>\n",
              "      <td>R01</td>\n",
              "      <td>2.0</td>\n",
              "      <td>3.0</td>\n",
              "      <td>A</td>\n",
              "      <td>Z1</td>\n",
              "      <td>1.0</td>\n",
              "      <td>3.0</td>\n",
              "      <td>3.000000</td>\n",
              "      <td>4.3</td>\n",
              "      <td>6.000000</td>\n",
              "      <td>False</td>\n",
              "    </tr>\n",
              "    <tr>\n",
              "      <th>1</th>\n",
              "      <td>R02</td>\n",
              "      <td>4.5</td>\n",
              "      <td>4.0</td>\n",
              "      <td>B</td>\n",
              "      <td>Z3</td>\n",
              "      <td>4.5</td>\n",
              "      <td>4.0</td>\n",
              "      <td>18.000000</td>\n",
              "      <td>0.0</td>\n",
              "      <td>18.000000</td>\n",
              "      <td>False</td>\n",
              "    </tr>\n",
              "    <tr>\n",
              "      <th>2</th>\n",
              "      <td>R03</td>\n",
              "      <td>4.3</td>\n",
              "      <td>6.0</td>\n",
              "      <td>C</td>\n",
              "      <td>Z3</td>\n",
              "      <td>4.3</td>\n",
              "      <td>5.0</td>\n",
              "      <td>21.500001</td>\n",
              "      <td>4.4</td>\n",
              "      <td>25.800001</td>\n",
              "      <td>False</td>\n",
              "    </tr>\n",
              "    <tr>\n",
              "      <th>3</th>\n",
              "      <td>R04</td>\n",
              "      <td>3.0</td>\n",
              "      <td>8.3</td>\n",
              "      <td>A</td>\n",
              "      <td>Z2</td>\n",
              "      <td>2.0</td>\n",
              "      <td>8.3</td>\n",
              "      <td>16.600000</td>\n",
              "      <td>4.1</td>\n",
              "      <td>24.900002</td>\n",
              "      <td>True</td>\n",
              "    </tr>\n",
              "    <tr>\n",
              "      <th>4</th>\n",
              "      <td>R05</td>\n",
              "      <td>7.0</td>\n",
              "      <td>7.2</td>\n",
              "      <td>B</td>\n",
              "      <td>Z1</td>\n",
              "      <td>7.0</td>\n",
              "      <td>7.2</td>\n",
              "      <td>50.399999</td>\n",
              "      <td>0.0</td>\n",
              "      <td>50.399998</td>\n",
              "      <td>False</td>\n",
              "    </tr>\n",
              "  </tbody>\n",
              "</table>\n",
              "</div>"
            ],
            "text/plain": [
              "  nombre  impacto  probab superv  ...      VER_n  c_resp        VER  verif_resp\n",
              "0    R01      2.0     3.0      A  ...   3.000000     4.3   6.000000       False\n",
              "1    R02      4.5     4.0      B  ...  18.000000     0.0  18.000000       False\n",
              "2    R03      4.3     6.0      C  ...  21.500001     4.4  25.800001       False\n",
              "3    R04      3.0     8.3      A  ...  16.600000     4.1  24.900002        True\n",
              "4    R05      7.0     7.2      B  ...  50.399999     0.0  50.399998       False\n",
              "\n",
              "[5 rows x 11 columns]"
            ]
          },
          "metadata": {
            "tags": []
          },
          "execution_count": 12
        }
      ]
    },
    {
      "cell_type": "code",
      "metadata": {
        "id": "6FMa__xRokg2",
        "colab_type": "code",
        "cellView": "form",
        "outputId": "daf2e3fd-7b7d-48f4-fbf9-a95d7dcab3a8",
        "colab": {
          "base_uri": "https://localhost:8080/",
          "height": 374
        }
      },
      "source": [
        "#@title Gráfica Comparada de Valor Esperado\n",
        "# Explica el cambio del impacto y la probabilidad luego de la implementación de respuestas\n",
        "plt.figure(figsize=(16,6))\n",
        "\n",
        "plt.subplot(1,2,1)\n",
        "plt.scatter(data_df.impacto, data_df.probab, \n",
        "            s=pd.Series([np.round(float(i)*10) for i in data_df.VER]), \n",
        "            marker='o')\n",
        "for j in range(20):\n",
        "  plt.text(data_df.impacto[j], data_df.probab[j], \n",
        "           data_df.nombre[j],\n",
        "           fontsize=15)\n",
        "\n",
        "plt.subplot(1,2,2)\n",
        "plt.scatter(data_df.impa_nuevo, data_df.prob_nueva, \n",
        "            s=pd.Series([np.round(float(i)*10) for i in data_df.VER_n]), \n",
        "            marker='o')\n",
        "for j in range(20):\n",
        "  plt.text(data_df.impa_nuevo[j], data_df.prob_nueva[j], \n",
        "           data_df.nombre[j],\n",
        "           fontsize=15)"
      ],
      "execution_count": 0,
      "outputs": [
        {
          "output_type": "display_data",
          "data": {
            "image/png": "[encoded data removed]",
            "text/plain": [
              "<Figure size 1152x432 with 2 Axes>"
            ]
          },
          "metadata": {
            "tags": []
          }
        }
      ]
    },
    {
      "cell_type": "code",
      "metadata": {
        "id": "S938Fl10vOEL",
        "colab_type": "code",
        "outputId": "d6004fd0-64f5-41b3-baf2-2a8fc099f135",
        "colab": {
          "base_uri": "https://localhost:8080/",
          "height": 52
        }
      },
      "source": [
        "print('Valor Rescatado', sum(data_df.VER)-sum(data_df.VER_n), '\\n', 'Total de costo de respuestas', sum(data_df.c_resp))"
      ],
      "execution_count": 0,
      "outputs": [
        {
          "output_type": "stream",
          "text": [
            "Valor Rescatado 139.6000031232834 \n",
            " Total de costo de respuestas 92.8\n"
          ],
          "name": "stdout"
        }
      ]
    },
    {
      "cell_type": "markdown",
      "metadata": {
        "id": "IJqu9815vBSn",
        "colab_type": "text"
      },
      "source": [
        "## Análisis de densidad de riesgos"
      ]
    },
    {
      "cell_type": "code",
      "metadata": {
        "colab_type": "code",
        "id": "b3xDl1-CvEV5",
        "outputId": "76e1048b-d9ce-46bd-e43a-7a398d5c21a1",
        "colab": {
          "base_uri": "https://localhost:8080/",
          "height": 384
        }
      },
      "source": [
        "data_df.plot.hexbin(x='impacto', y='probab', gridsize=8, figsize=(10,6))"
      ],
      "execution_count": 0,
      "outputs": [
        {
          "output_type": "execute_result",
          "data": {
            "text/plain": [
              "<matplotlib.axes._subplots.AxesSubplot at 0x7f4cc8a3c668>"
            ]
          },
          "metadata": {
            "tags": []
          },
          "execution_count": 17
        },
        {
          "output_type": "display_data",
          "data": {
            "image/png": "[encoded data removed]",
            "text/plain": [
              "<Figure size 720x432 with 2 Axes>"
            ]
          },
          "metadata": {
            "tags": []
          }
        }
      ]
    },
    {
      "cell_type": "markdown",
      "metadata": {
        "id": "Psjho7PktxbW",
        "colab_type": "text"
      },
      "source": [
        "## Predictibilidad de Riesgos"
      ]
    },
    {
      "cell_type": "markdown",
      "metadata": {
        "id": "DbbVIPRN2mWP",
        "colab_type": "text"
      },
      "source": [
        "El objetivo de la predictibilidad de riesgos es que, dada una variable (en este caso se puede elegir el surpevisor) cómo las otras variables ayudan a predecirlo. En otras palabras, a partir de variables como el Valor Esperado de Riesgos, el impacto, la probabilidad y el costo de respuesta, se puede predecir de qué supervisor se trata."
      ]
    },
    {
      "cell_type": "code",
      "metadata": {
        "id": "zUC50PpgrY2Z",
        "colab_type": "code",
        "outputId": "ac60914d-40bc-4112-fc70-8e17f15ed464",
        "colab": {
          "base_uri": "https://localhost:8080/",
          "height": 34
        }
      },
      "source": [
        "data_feature = data_df[['impacto', 'VER', 'c_resp']]\n",
        "data_target = pd.factorize(data_df.superv)[0]+1\n",
        "print(data_target)"
      ],
      "execution_count": 0,
      "outputs": [
        {
          "output_type": "stream",
          "text": [
            "[1 2 3 1 2 3 1 2 3 1 2 3 1 2 3 1 2 3 1 2]\n"
          ],
          "name": "stdout"
        }
      ]
    },
    {
      "cell_type": "markdown",
      "metadata": {
        "id": "5MiHFKvVDxmE",
        "colab_type": "text"
      },
      "source": [
        "### Clasificación por Arbol de Decisiones"
      ]
    },
    {
      "cell_type": "code",
      "metadata": {
        "id": "ol0piIWQu4Nw",
        "colab_type": "code",
        "colab": {}
      },
      "source": [
        "from sklearn import tree\n",
        "from sklearn.tree import DecisionTreeClassifier\n",
        "dtree = tree.DecisionTreeClassifier(max_depth=3, criterion='gini')"
      ],
      "execution_count": 0,
      "outputs": []
    },
    {
      "cell_type": "code",
      "metadata": {
        "id": "_9bFwYJpry6W",
        "colab_type": "code",
        "outputId": "e0652bfd-4ca4-4e5a-dd0f-368d0e54ef46",
        "colab": {
          "base_uri": "https://localhost:8080/",
          "height": 123
        }
      },
      "source": [
        "dtree.fit(data_feature, data_target)"
      ],
      "execution_count": 0,
      "outputs": [
        {
          "output_type": "execute_result",
          "data": {
            "text/plain": [
              "DecisionTreeClassifier(class_weight=None, criterion='gini', max_depth=3,\n",
              "                       max_features=None, max_leaf_nodes=None,\n",
              "                       min_impurity_decrease=0.0, min_impurity_split=None,\n",
              "                       min_samples_leaf=1, min_samples_split=2,\n",
              "                       min_weight_fraction_leaf=0.0, presort=False,\n",
              "                       random_state=None, splitter='best')"
            ]
          },
          "metadata": {
            "tags": []
          },
          "execution_count": 226
        }
      ]
    },
    {
      "cell_type": "code",
      "metadata": {
        "id": "HpbfdIwUt195",
        "colab_type": "code",
        "outputId": "c9d2d847-9fc6-4251-afa6-a3c956552c74",
        "colab": {
          "base_uri": "https://localhost:8080/",
          "height": 714
        }
      },
      "source": [
        "plt.figure(figsize=(16,8))\n",
        "plt.legend(loc='right')\n",
        "from statsmodels.graphics.mosaicplot import mosaic\n",
        "tree.plot_tree(dtree, rounded=True, fontsize=11, label='all', filled=True)"
      ],
      "execution_count": 0,
      "outputs": [
        {
          "output_type": "stream",
          "text": [
            "No handles with labels found to put in legend.\n"
          ],
          "name": "stderr"
        },
        {
          "output_type": "execute_result",
          "data": {
            "text/plain": [
              "[Text(483.59999999999997, 380.52, 'X[1] <= 32.5\\ngini = 0.665\\nsamples = 20\\nvalue = [7, 7, 6]'),\n",
              " Text(297.59999999999997, 271.8, 'X[0] <= 3.6\\ngini = 0.633\\nsamples = 16\\nvalue = [7, 6, 3]'),\n",
              " Text(148.79999999999998, 163.07999999999998, 'X[1] <= 25.95\\ngini = 0.375\\nsamples = 4\\nvalue = [3, 0, 1]'),\n",
              " Text(74.39999999999999, 54.360000000000014, 'gini = 0.0\\nsamples = 3\\nvalue = [3, 0, 0]'),\n",
              " Text(223.2, 54.360000000000014, 'gini = 0.0\\nsamples = 1\\nvalue = [0, 0, 1]'),\n",
              " Text(446.4, 163.07999999999998, 'X[1] <= 18.2\\ngini = 0.611\\nsamples = 12\\nvalue = [4, 6, 2]'),\n",
              " Text(371.99999999999994, 54.360000000000014, 'gini = 0.32\\nsamples = 5\\nvalue = [1, 4, 0]'),\n",
              " Text(520.8, 54.360000000000014, 'gini = 0.653\\nsamples = 7\\nvalue = [3, 2, 2]'),\n",
              " Text(669.5999999999999, 271.8, 'X[1] <= 45.2\\ngini = 0.375\\nsamples = 4\\nvalue = [0, 1, 3]'),\n",
              " Text(595.1999999999999, 163.07999999999998, 'gini = 0.0\\nsamples = 2\\nvalue = [0, 0, 2]'),\n",
              " Text(743.9999999999999, 163.07999999999998, 'X[2] <= 4.45\\ngini = 0.5\\nsamples = 2\\nvalue = [0, 1, 1]'),\n",
              " Text(669.5999999999999, 54.360000000000014, 'gini = 0.0\\nsamples = 1\\nvalue = [0, 1, 0]'),\n",
              " Text(818.3999999999999, 54.360000000000014, 'gini = 0.0\\nsamples = 1\\nvalue = [0, 0, 1]')]"
            ]
          },
          "metadata": {
            "tags": []
          },
          "execution_count": 227
        },
        {
          "output_type": "display_data",
          "data": {
            "image/png": "[encoded data removed]",
            "text/plain": [
              "<Figure size 1152x576 with 1 Axes>"
            ]
          },
          "metadata": {
            "tags": []
          }
        }
      ]
    },
    {
      "cell_type": "code",
      "metadata": {
        "id": "oopDEsh_1TNh",
        "colab_type": "code",
        "outputId": "73fff2cf-c3d1-48f2-d785-779196c7781a",
        "colab": {
          "base_uri": "https://localhost:8080/",
          "height": 34
        }
      },
      "source": [
        "prediccion = dtree.predict(np.array([[4.0, 15.0, 5.0], [1.0, 5.0, 4.0]]))\n",
        "print(prediccion)"
      ],
      "execution_count": 0,
      "outputs": [
        {
          "output_type": "stream",
          "text": [
            "[2 1]\n"
          ],
          "name": "stdout"
        }
      ]
    },
    {
      "cell_type": "markdown",
      "metadata": {
        "id": "L5Do0G_7Dmzo",
        "colab_type": "text"
      },
      "source": [
        "### Clasificación por Mosaico"
      ]
    },
    {
      "cell_type": "code",
      "metadata": {
        "id": "c8lHbPQjyKBt",
        "colab_type": "code",
        "colab": {}
      },
      "source": [
        "from statsmodels.graphics.mosaicplot import mosaic\n",
        "vars = ['area', 'nombre']"
      ],
      "execution_count": 0,
      "outputs": []
    },
    {
      "cell_type": "code",
      "metadata": {
        "id": "1GRkRTY5yHJR",
        "colab_type": "code",
        "outputId": "af6e0936-4b70-41e8-ef61-1d4551ced9eb",
        "colab": {
          "base_uri": "https://localhost:8080/",
          "height": 485
        }
      },
      "source": [
        "#base = data_df.sort_values(by=vars[0])\n",
        "with plt.rc_context():\n",
        "    plt.rc('figure', figsize=(16,8))\n",
        "    plt.rc('font', size=10)\n",
        "    mosaic(data_df, ['area', 'superv'], gap=0.05) #labelizer=labels\n",
        "    plt.show()"
      ],
      "execution_count": 0,
      "outputs": [
        {
          "output_type": "display_data",
          "data": {
            "image/png": "[encoded data removed]",
            "text/plain": [
              "<Figure size 1152x576 with 3 Axes>"
            ]
          },
          "metadata": {
            "tags": []
          }
        }
      ]
    },
    {
      "cell_type": "code",
      "metadata": {
        "id": "BfcootcPZiiM",
        "colab_type": "code",
        "colab": {}
      },
      "source": [
        ""
      ],
      "execution_count": 0,
      "outputs": []
    },
    {
      "cell_type": "markdown",
      "metadata": {
        "id": "gd1ZNghtZk-g",
        "colab_type": "text"
      },
      "source": [
        "## Modelamiento Predictivo"
      ]
    },
    {
      "cell_type": "code",
      "metadata": {
        "id": "t1pHBlnYgpn1",
        "colab_type": "code",
        "colab": {}
      },
      "source": [
        "from pandas.plotting import radviz\n",
        "from sklearn.naive_bayes import GaussianNB, MultinomialNB\n",
        "from sklearn import preprocessing\n",
        "from sklearn.preprocessing import LabelEncoder\n",
        "from sklearn.model_selection import train_test_split"
      ],
      "execution_count": 0,
      "outputs": []
    },
    {
      "cell_type": "code",
      "metadata": {
        "id": "KFP5Shspg6R7",
        "colab_type": "code",
        "colab": {}
      },
      "source": [
        "#Convertir datos categoricos en columnas 0...1\n",
        "convertidor = LabelEncoder()\n",
        "data_df['area_n'] = convertidor.fit_transform(data_df['area'])\n",
        "data_df['superv_n'] = convertidor.fit_transform(data_df['superv'])"
      ],
      "execution_count": 0,
      "outputs": []
    },
    {
      "cell_type": "code",
      "metadata": {
        "id": "_aCR1rG9p1IX",
        "colab_type": "code",
        "colab": {}
      },
      "source": [
        "data_X = data_df[['impacto', 'probab', 'VER_n', 'c_resp', 'superv_n']]\n",
        "data_y = np.array(data_df[['area_n']]).ravel()"
      ],
      "execution_count": 0,
      "outputs": []
    },
    {
      "cell_type": "code",
      "metadata": {
        "id": "ju0kgXXVv3zS",
        "colab_type": "code",
        "outputId": "9764eb3a-b2d6-44c4-c4a6-49e6cd4fabd8",
        "colab": {
          "base_uri": "https://localhost:8080/",
          "height": 197
        }
      },
      "source": [
        "data_X.head()"
      ],
      "execution_count": 0,
      "outputs": [
        {
          "output_type": "execute_result",
          "data": {
            "text/html": [
              "<div>\n",
              "<style scoped>\n",
              "    .dataframe tbody tr th:only-of-type {\n",
              "        vertical-align: middle;\n",
              "    }\n",
              "\n",
              "    .dataframe tbody tr th {\n",
              "        vertical-align: top;\n",
              "    }\n",
              "\n",
              "    .dataframe thead th {\n",
              "        text-align: right;\n",
              "    }\n",
              "</style>\n",
              "<table border=\"1\" class=\"dataframe\">\n",
              "  <thead>\n",
              "    <tr style=\"text-align: right;\">\n",
              "      <th></th>\n",
              "      <th>impacto</th>\n",
              "      <th>probab</th>\n",
              "      <th>VER_n</th>\n",
              "      <th>c_resp</th>\n",
              "      <th>superv_n</th>\n",
              "    </tr>\n",
              "  </thead>\n",
              "  <tbody>\n",
              "    <tr>\n",
              "      <th>0</th>\n",
              "      <td>2.0</td>\n",
              "      <td>3.0</td>\n",
              "      <td>3.000000</td>\n",
              "      <td>4.3</td>\n",
              "      <td>0</td>\n",
              "    </tr>\n",
              "    <tr>\n",
              "      <th>1</th>\n",
              "      <td>4.5</td>\n",
              "      <td>4.0</td>\n",
              "      <td>18.000000</td>\n",
              "      <td>0.0</td>\n",
              "      <td>1</td>\n",
              "    </tr>\n",
              "    <tr>\n",
              "      <th>2</th>\n",
              "      <td>4.3</td>\n",
              "      <td>6.0</td>\n",
              "      <td>21.500001</td>\n",
              "      <td>4.4</td>\n",
              "      <td>2</td>\n",
              "    </tr>\n",
              "    <tr>\n",
              "      <th>3</th>\n",
              "      <td>3.0</td>\n",
              "      <td>8.3</td>\n",
              "      <td>16.600000</td>\n",
              "      <td>4.1</td>\n",
              "      <td>0</td>\n",
              "    </tr>\n",
              "    <tr>\n",
              "      <th>4</th>\n",
              "      <td>7.0</td>\n",
              "      <td>7.2</td>\n",
              "      <td>50.399999</td>\n",
              "      <td>0.0</td>\n",
              "      <td>1</td>\n",
              "    </tr>\n",
              "  </tbody>\n",
              "</table>\n",
              "</div>"
            ],
            "text/plain": [
              "   impacto  probab      VER_n  c_resp  superv_n\n",
              "0      2.0     3.0   3.000000     4.3         0\n",
              "1      4.5     4.0  18.000000     0.0         1\n",
              "2      4.3     6.0  21.500001     4.4         2\n",
              "3      3.0     8.3  16.600000     4.1         0\n",
              "4      7.0     7.2  50.399999     0.0         1"
            ]
          },
          "metadata": {
            "tags": []
          },
          "execution_count": 25
        }
      ]
    },
    {
      "cell_type": "code",
      "metadata": {
        "id": "GJe1LzPav7Ol",
        "colab_type": "code",
        "outputId": "f5d62560-9ec6-4121-ce83-71674e7206e6",
        "colab": {
          "base_uri": "https://localhost:8080/",
          "height": 34
        }
      },
      "source": [
        "data_y"
      ],
      "execution_count": 0,
      "outputs": [
        {
          "output_type": "execute_result",
          "data": {
            "text/plain": [
              "array([0, 2, 2, 1, 0, 0, 2, 2, 1, 0, 0, 2, 2, 1, 0, 0, 2, 2, 1, 0])"
            ]
          },
          "metadata": {
            "tags": []
          },
          "execution_count": 26
        }
      ]
    },
    {
      "cell_type": "code",
      "metadata": {
        "id": "gGOlN_WaZgGR",
        "colab_type": "code",
        "colab": {}
      },
      "source": [
        "model = MultinomialNB().fit(data_X, data_y)"
      ],
      "execution_count": 0,
      "outputs": []
    },
    {
      "cell_type": "code",
      "metadata": {
        "id": "TRqpVuOwrz4j",
        "colab_type": "code",
        "outputId": "be979903-0d66-4bed-bf6c-d50c1b0b05eb",
        "colab": {
          "base_uri": "https://localhost:8080/",
          "height": 34
        }
      },
      "source": [
        "X_test = [[3,4,30,4,2],[5,7,65,3,3],[5,1,65,5,2]]\n",
        "prediccion = model.predict(X_test)\n",
        "prediccion\n",
        "convertidor.inverse_transform(prediccion)"
      ],
      "execution_count": 0,
      "outputs": [
        {
          "output_type": "execute_result",
          "data": {
            "text/plain": [
              "array(['A', 'A', 'A'], dtype=object)"
            ]
          },
          "metadata": {
            "tags": []
          },
          "execution_count": 29
        }
      ]
    },
    {
      "cell_type": "markdown",
      "metadata": {
        "colab_type": "text",
        "id": "h7xxOUg5ux9u"
      },
      "source": [
        "## Dimensionamiento del Riesgo en el Alcance"
      ]
    },
    {
      "cell_type": "code",
      "metadata": {
        "id": "pY8uoUcNtwRT",
        "colab_type": "code",
        "outputId": "36627f12-77c8-468f-c207-9b5bc2c7cba2",
        "colab": {
          "base_uri": "https://localhost:8080/",
          "height": 34
        }
      },
      "source": [
        "alcance = 100\n",
        "impacto_potencial = 40\n",
        "probabilidad = 0.5\n",
        "alcance_asegurado = alcance - impacto_potencial * probabilidad\n",
        "print(alcance_asegurado)"
      ],
      "execution_count": 0,
      "outputs": [
        {
          "output_type": "stream",
          "text": [
            "80.0\n"
          ],
          "name": "stdout"
        }
      ]
    }
  ]
}